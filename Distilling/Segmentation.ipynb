{
 "cells": [
  {
   "attachments": {},
   "cell_type": "markdown",
   "metadata": {},
   "source": [
    "# Projet TER"
   ]
  },
  {
   "cell_type": "code",
   "execution_count": 1,
   "metadata": {},
   "outputs": [
    {
     "name": "stderr",
     "output_type": "stream",
     "text": [
      "/home/mehtali/env/lib/python3.6/site-packages/tqdm/auto.py:22: TqdmWarning: IProgress not found. Please update jupyter and ipywidgets. See https://ipywidgets.readthedocs.io/en/stable/user_install.html\n",
      "  from .autonotebook import tqdm as notebook_tqdm\n"
     ]
    },
    {
     "name": "stdout",
     "output_type": "stream",
     "text": [
      "Random Seed:  999\n"
     ]
    },
    {
     "data": {
      "text/plain": [
       "<torch._C.Generator at 0x7f3d4e8d9fc0>"
      ]
     },
     "execution_count": 1,
     "metadata": {},
     "output_type": "execute_result"
    }
   ],
   "source": [
    "from __future__ import print_function\n",
    "# %matplotlib inline\n",
    "import argparse\n",
    "import os\n",
    "import os.path as osp\n",
    "import random\n",
    "import torch\n",
    "import torch.nn as nn\n",
    "import torch.nn.functional as F\n",
    "import torch.nn.parallel\n",
    "import torch.backends.cudnn as cudnn\n",
    "import torch.optim as optim\n",
    "import torch.utils.data as data\n",
    "from torch.autograd import Variable\n",
    "from torch.optim.lr_scheduler import StepLR\n",
    "import torchvision.datasets as dset\n",
    "import torchvision.transforms as transforms\n",
    "import torchvision.utils as vutils\n",
    "import numpy as np\n",
    "import matplotlib.pyplot as plt\n",
    "import matplotlib.animation as animation\n",
    "from IPython.display import HTML\n",
    "from PIL import Image\n",
    "from tqdm import tqdm\n",
    "from torch import Tensor\n",
    "import pickle\n",
    "from datetime import datetime\n",
    "\n",
    "import copy # To make a copy of a model\n",
    "\n",
    "\n",
    "from torchvision import datasets, transforms\n",
    "from torch.utils.data import random_split\n",
    "\n",
    "from torchsummary import summary\n",
    "\n",
    "\n",
    "import utils\n",
    "from utils.dataset import SegmentationDataSet\n",
    "from utils.printer import source_printer\n",
    "from utils.printer import target_printer\n",
    "from utils.model import GenericNetwork\n",
    "from utils.model import TeacherNetwork\n",
    "from utils.model import StudentNetworkSmall\n",
    "from utils.model import UNet_modular\n",
    "from utils.model import UNet\n",
    "from utils.model import YNet\n",
    "from utils.model import Recons_net\n",
    "from utils.model import ClassifNet\n",
    "from utils.utils import getLossAccuracyOnDataset\n",
    "from utils.utils import preprocessing\n",
    "from utils.utils import IoU\n",
    "from utils.utils import postprocessing\n",
    "from utils.utils import dice_coeff\n",
    "from utils.utils import multiclass_dice_coeff\n",
    "from utils.utils import dice_loss\n",
    "from utils.utils import smooth\n",
    "\n",
    "\n",
    "# Set random seed for reproducibility\n",
    "manualSeed = 999\n",
    "# manualSeed = random.randint(1, 10000) # use if you want new results\n",
    "print(\"Random Seed: \", manualSeed)\n",
    "random.seed(manualSeed)\n",
    "torch.manual_seed(manualSeed)\n"
   ]
  },
  {
   "cell_type": "code",
   "execution_count": 2,
   "metadata": {},
   "outputs": [],
   "source": [
    "def load_model(model, path=\"\"):\n",
    "    if len(path)>0:\n",
    "        state_dict = torch.load(path)\n",
    "        model.load_state_dict(state_dict)\n",
    "    model.to(device=device)\n",
    "\n",
    "    if (device.type == 'cuda') and (ngpu > 1):\n",
    "        print(\"Data Parallel\")\n",
    "        model = nn.DataParallel(model, list(range(ngpu)))\n",
    "    \n",
    "    return model\n",
    "\n",
    "\n",
    "def load_student_model(path=\"\"):\n",
    "    # STUDENT\n",
    "    return load_model(UNet_modular(channel_depth = 16, n_channels = 3, n_classes=3), path)\n",
    "\n",
    "\n",
    "def load_teacher_model(path=\"\"):\n",
    "    # TEACHER\n",
    "    return load_model(UNet_modular(channel_depth = 32, n_channels = 3, n_classes=3), path)\n",
    "\n",
    "# Other\n",
    "\n",
    "def save_model(model, path):\n",
    "    torch.save(model.state_dict(), path)\n",
    "\n",
    "# Function that returns a list of paths in a folder that start with a word\n",
    "def get_path_list(path, start_with=\"\"):\n",
    "    path_list = [osp.join(path, f) for f in os.listdir(path) if f.startswith(start_with)]\n",
    "    return path_list\n",
    "\n",
    "# Function that returns the names in a path list with the last number in the name\n",
    "def get_last_number_in_name(path_list):\n",
    "    last_number = [int(f.split(\"_\")[-1].split(\".\")[0]) for f in path_list]\n",
    "    return last_number\n",
    "\n",
    "def get_trainable_param(model):\n",
    "    model_parameters = filter(lambda p: p.requires_grad, model.parameters())\n",
    "    return sum([np.prod(p.size()) for p in model_parameters])\n",
    "\n",
    "\n",
    "def show_prediction(model, val_loader, n=0):\n",
    "    model.eval().cuda()\n",
    "\n",
    "    criterion = nn.BCEWithLogitsLoss()\n",
    "    with torch.no_grad():\n",
    "        for i,(img,gt) in enumerate(val_loader):\n",
    "            if n !=0 and i > n:\n",
    "                break\n",
    "        \n",
    "            if torch.cuda.is_available():\n",
    "                img, gt = img.cuda(), gt.cuda()\n",
    "            img, gt = Variable(img), Variable(gt)\n",
    "\n",
    "            output = model(img)\n",
    "            output = output.clamp(min = 0, max = 1)\n",
    "            gt = gt.clamp(min = 0, max = 1)\n",
    "\n",
    "            # Plot image, output and ground truth one one row\n",
    "            fig, ax = plt.subplots(1,3, figsize=(15,15))\n",
    "            ax[0].set_title(\"Input\")\n",
    "            ax[0].imshow(img[0].cpu().numpy().transpose(1,2,0))\n",
    "            ax[1].set_title(\"Output\")\n",
    "            ax[1].imshow(output[0].cpu().numpy().transpose(1,2,0))\n",
    "            ax[2].set_title(\"Ground Truth\")\n",
    "            ax[2].imshow(gt[0].cpu().numpy().transpose(1,2,0))\n",
    "            plt.show()\n",
    "    "
   ]
  },
  {
   "cell_type": "code",
   "execution_count": 3,
   "metadata": {},
   "outputs": [],
   "source": [
    "date = str(datetime.now()).split(' ')[0]\n",
    "heure = str(datetime.now()).split(' ')[1].split('.')[0]\n",
    "\n",
    "# Root directory for dataset\n",
    "# Refaire nos data folder et tout pour que ce soit\n",
    "# au format demandé par le dataloader\n",
    "\n",
    "# Leave empty if you want to use the default name or load a previous session\n",
    "session_name = \"IGBMC_I3_FINAL\"\n",
    "\n",
    "if len(session_name) == 0:\n",
    "    session_name = \"IGBMC_I3\"+\"_\"+str(date)+\"_\"+str(heure)\n",
    "    \n",
    "\n",
    "dataset_folder = \"/home/mehtali/TER_CNN_Compression/Data/training-data/data/IGBMC_I3_diversifie/patches/\"\n",
    "train_list = dataset_folder+\"train_2500_i3.txt\"\n",
    "test_list = dataset_folder+\"test_5000-7500_i3.txt\"\n",
    "validate_list = dataset_folder+\"test_1000.txt\"\n",
    "\n",
    "\n",
    "# Number of workers for dataloader\n",
    "workers = 10\n",
    "\n",
    "# Batch size during training (low batch_size if there are memory issues)\n",
    "batch_size = 10\n",
    "\n",
    "# Spatial size of training images. All images will be resized to this\n",
    "#   size using a transformer.\n",
    "image_size_source = 256\n",
    "image_size_target = 256\n",
    "image_size_discriminator = 64\n",
    "\n",
    "# Number of channels in the training images. For color images this is 3\n",
    "nc = 3\n",
    "\n",
    "# Number of training epochs\n",
    "num_epochs = 20\n",
    "\n",
    "# Learning rate for optimizers\n",
    "learning_rate = 1e-5  # e-5\n",
    "\n",
    "# Beta1 hyperparam for Adam optimizers\n",
    "beta1 = 0.5\n",
    "\n",
    "# Number of GPUs available. Use 0 for CPU mode.\n",
    "ngpu = 1\n",
    "\n",
    "# Saves every batch_save_interval\n",
    "batch_save_interval = 2\n",
    "\n",
    "# some net variable\n",
    "amp = False\n",
    "\n",
    "save_path =  \"../Data/Saves/\" + session_name\n",
    "model_save_path = save_path+\"/newtork_weigths/\"\n",
    "\n",
    "if not os.path.exists(\"../Data\"):\n",
    "    os.mkdir(\"../Data\")\n",
    "if not os.path.exists(\"../Data/Saves\" ):\n",
    "    os.mkdir(\"../Data/Saves\" )\n",
    "\n",
    "# We create this folder (only if it doesn't exists) to save weights of the training at some keys epoch\n",
    "if not os.path.exists(save_path):\n",
    "    os.mkdir(save_path)\n",
    "    os.mkdir(save_path+\"/loss-dice_listes\")\n",
    "    os.mkdir(save_path+\"/newtork_weigths\")\n",
    "    os.mkdir(save_path+\"/training_monitoring\")\n",
    "\n",
    "log_file = open(save_path+\"/log+\"+\"_\"+date+\"_\"+heure+\".txt\", \"w\")\n",
    "\n",
    "log_file.write(\"dataset_folder :\"+dataset_folder+\"\\n\")\n",
    "log_file.write(\"batch_size=\"+str(batch_size)+\"\\n\")\n",
    "log_file.write(\"learning_rate_net=\"+str(learning_rate)+\"\\n\")\n",
    "log_file.write(\"num_epoch=\"+str(num_epochs)+\"\\n\")\n",
    "log_file.write(\"nc=\"+str(nc)+\"\\n\")\n",
    "log_file.close()\n"
   ]
  },
  {
   "cell_type": "code",
   "execution_count": 4,
   "metadata": {},
   "outputs": [
    {
     "name": "stdout",
     "output_type": "stream",
     "text": [
      "number of gpus : 4\n",
      "device ID cuda:0\n",
      "nom du GPU NVIDIA GeForce RTX 2080 Ti\n"
     ]
    }
   ],
   "source": [
    "print(\"number of gpus :\", torch.cuda.device_count())\n",
    "\n",
    "# Decide which device we want to run on\n",
    "device = torch.device(\"cuda:0\" if (\n",
    "    torch.cuda.is_available() and ngpu > 0) else \"cpu\")\n",
    "\n",
    "# On regarde l'identifiant du GPU ou CPU sur lequel on travaille\n",
    "print(\"device ID\", device)\n",
    "print(\"nom du GPU\", torch.cuda.get_device_name(device))  # On vérifie son \"nom\"\n",
    "\n",
    "torch.cuda.empty_cache()\n"
   ]
  },
  {
   "cell_type": "code",
   "execution_count": 5,
   "metadata": {},
   "outputs": [
    {
     "name": "stdout",
     "output_type": "stream",
     "text": [
      "images source :  torch.Size([10, 3, 256, 256])\n",
      "mask source : torch.Size([10, 1, 256, 256])\n"
     ]
    },
    {
     "data": {
      "text/plain": [
       "<matplotlib.image.AxesImage at 0x7f3ccce115c0>"
      ]
     },
     "execution_count": 5,
     "metadata": {},
     "output_type": "execute_result"
    },
    {
     "data": {
      "image/png": "[encoded data removed]",
      "text/plain": [
       "<Figure size 576x576 with 1 Axes>"
      ]
     },
     "metadata": {
      "needs_background": "light"
     },
     "output_type": "display_data"
    }
   ],
   "source": [
    "# For data augmentation\n",
    "\n",
    "geometric_augs = [\n",
    "    # transforms.Resize((256, 256)), # Makes it easier to process using net\n",
    "    #transforms.RandomRotation(degrees=(0, 180)),\n",
    "    transforms.RandomHorizontalFlip(),\n",
    "    transforms.RandomVerticalFlip(),\n",
    "    # transforms.RandomRotation(45),\n",
    "]\n",
    "\n",
    "color_augs = [\n",
    "    transforms.ColorJitter(hue=0.05, saturation=0.4)\n",
    "]\n",
    "\n",
    "\n",
    "def make_tfs(augs):\n",
    "    return transforms.Compose([transforms.ToPILImage()]+augs + [transforms.ToTensor()])\n",
    "\n",
    "\n",
    "tfs = transforms.Compose(geometric_augs)\n",
    "\n",
    "\n",
    "# Importation des images et masques de i3\n",
    "train_dataset = SegmentationDataSet(root=dataset_folder,\n",
    "                              list_path=train_list,\n",
    "                              #transform_img=make_tfs(\n",
    "                              #    geometric_augs + color_augs),\n",
    "                              #  transform_label=make_tfs(geometric_augs)\n",
    "                              )\n",
    "\n",
    "# Not a good idea to augment the test data\n",
    "test_dataset = SegmentationDataSet(root=dataset_folder,\n",
    "                                list_path=test_list\n",
    "                                )\n",
    "# Not a good idea to augment the test data\n",
    "validate_dataset = SegmentationDataSet(root=dataset_folder,\n",
    "                                list_path=validate_list\n",
    "                                )\n",
    "\n",
    "\n",
    "\n",
    "train_dataloader = torch.utils.data.DataLoader(train_dataset,\n",
    "                                               batch_size=batch_size,\n",
    "                                               shuffle=True,\n",
    "                                               num_workers=workers)\n",
    "\n",
    "test_dataloader = torch.utils.data.DataLoader(test_dataset,\n",
    "                                              batch_size=batch_size,\n",
    "                                              shuffle=True,\n",
    "                                              num_workers=workers)\n",
    "\n",
    "validation_dataloader = torch.utils.data.DataLoader(validate_dataset,\n",
    "                                              batch_size=batch_size,\n",
    "                                              shuffle=True,\n",
    "                                              num_workers=workers)\n",
    "\n",
    "\n",
    "batch = next(iter(train_dataloader))\n",
    "\n",
    "# On affiche quelques exemple du batch pour vérifier qu'on a bien importé les données\n",
    "print(\"images source : \", batch[0].shape)\n",
    "print(\"mask source :\", batch[1].shape)\n",
    "\n",
    "\n",
    "\n",
    "plt.figure(figsize=(8, 8))\n",
    "plt.axis(\"off\")\n",
    "plt.title(\"Training images source - a batch\")\n",
    "plt.imshow(np.transpose(vutils.make_grid(batch[0].to(\n",
    "    device)[:64], padding=2, normalize=True).cpu(), (1, 2, 0)))\n"
   ]
  },
  {
   "cell_type": "markdown",
   "metadata": {},
   "source": [
    "# Neural net architecture"
   ]
  },
  {
   "cell_type": "markdown",
   "metadata": {},
   "source": [
    "## Load or create neural net"
   ]
  },
  {
   "cell_type": "code",
   "execution_count": 6,
   "metadata": {},
   "outputs": [
    {
     "name": "stdout",
     "output_type": "stream",
     "text": [
      "We are running U-Net on : NVIDIA GeForce RTX 2080 Ti\n",
      "Teacher network summary\n",
      "Student network summary\n"
     ]
    }
   ],
   "source": [
    "# On revérifie qu'on tourne bien le réseau de neuronnes sur le GPU\n",
    "print(\"We are running U-Net on :\", torch.cuda.get_device_name(device))\n",
    "\n",
    "print(\"Teacher network summary\")\n",
    "teacher_summary = summary(load_teacher_model(), (3, 256, 256), verbose=0)\n",
    "\n",
    "print(\"Student network summary\")\n",
    "student_summary = summary(load_student_model(), (3, 256, 256), verbose=0)\n",
    "\n",
    "\n",
    "log_file = open(save_path+\"/model_architectures+\"+\"_\"+date+\"_\"+heure+\".txt\", \"w\")\n",
    "\n",
    "log_file.write(\"Teacher network summary\\n\"+str(teacher_summary)+\"\\n\\n\")\n",
    "log_file.write(\"Student network summary\\n\"+str(student_summary)+\"\\n\")\n",
    "log_file.close()"
   ]
  },
  {
   "attachments": {},
   "cell_type": "markdown",
   "metadata": {},
   "source": [
    "## Training"
   ]
  },
  {
   "cell_type": "code",
   "execution_count": 7,
   "metadata": {},
   "outputs": [],
   "source": [
    "def evaluate(model, val_loader):\n",
    "    model.eval().cuda()\n",
    "\n",
    "    criterion = nn.BCEWithLogitsLoss()\n",
    "    ll = []\n",
    "    dl = []\n",
    "    with torch.no_grad():\n",
    "        for i,(img,gt) in enumerate(val_loader):\n",
    "            if torch.cuda.is_available():\n",
    "                img, gt = img.cuda(), gt.cuda()\n",
    "            img, gt = Variable(img), Variable(gt)\n",
    "\n",
    "            output = model(img)\n",
    "            output = output.clamp(min = 0, max = 1)\n",
    "            gt = gt.clamp(min = 0, max = 1)\n",
    "            loss = dice_loss(output, gt)\n",
    "            dice = dice_coeff(output, gt)\n",
    "            ll.append(loss.item())\n",
    "            dl.append(dice.item())\n",
    "\n",
    "    \n",
    "    mean_dice = np.mean(dl)\n",
    "    mean_loss = np.mean(ll)\n",
    "    print(\"Eval metrics : dice {:.3f} and loss {:.3f}.\".format(mean_dice, mean_loss))\n",
    "    return mean_dice, mean_loss\n",
    "\n",
    "\n",
    "def train(model, optimizer, train_loader):\n",
    "    model.train().cuda()\n",
    "    criterion = nn.BCEWithLogitsLoss()\n",
    "    ll = []\n",
    "    dl = []\n",
    "    with tqdm(total=len(train_loader)*train_loader.batch_size, desc=f'Training', unit='img') as pbar:\n",
    "        for i, (img, gt) in enumerate(train_loader):\n",
    "            #print('i', i)\n",
    "            if torch.cuda.is_available():\n",
    "                img, gt = img.cuda(), gt.cuda()\n",
    "            \n",
    "            img, gt = Variable(img), Variable(gt)\n",
    "\n",
    "            optimizer.zero_grad()\n",
    "            output = model(img)\n",
    "            output = output.clamp(min = 0, max = 1)\n",
    "            gt = gt.clamp(min = 0, max = 1)\n",
    "            loss = dice_loss(output, gt)\n",
    "            dice = dice_coeff(output, gt)\n",
    "            ll.append(loss.item())\n",
    "            dl.append(dice.item())\n",
    "\n",
    "            \n",
    "            \n",
    "            loss.backward()\n",
    "\n",
    "            optimizer.step()\n",
    "\n",
    "            pbar.update(len(img))\n",
    "            pbar.set_postfix(**{'loss': loss.item(), \"dice\": dice.item()})\n",
    "    \n",
    "    mean_dice = np.mean(dl)\n",
    "    mean_loss = np.mean(ll)\n",
    "\n",
    "    print(\"Average dice {:.3f} and loss {:.3f} over this epoch.\".format(mean_dice, mean_loss))\n",
    "\n",
    "    return mean_dice, mean_loss\n",
    "\n",
    "\n",
    "T = 1.0 # temperature for distillation loss\n",
    "# Using a higher value for T produces a softer probability distribution over classes\n",
    "alpha = 0.9\n",
    "# trade-off between soft-target (st) cross-entropy and true-target (tt) cross-entropy;\n",
    "# loss = alpha * st + (1 - alpha) * tt\n",
    "\n",
    "def kd_loss(student_preds, teacher_preds, hard_labels, temperature, alpha):\n",
    "    # Calculate the soft targets by applying softmax to the teacher predictions\n",
    "    soft_targets = nn.functional.softmax(teacher_preds / temperature, dim=1)\n",
    "    soft_pred = nn.functional.log_softmax(student_preds / temperature, dim=1)\n",
    "    \n",
    "    # Calculate the soft target loss using KL divergence\n",
    "    kl_loss = nn.KLDivLoss(reduction='batchmean')(soft_pred, soft_targets) * (temperature ** 2)\n",
    "\n",
    "\n",
    "\n",
    "    # Calculate the hard target loss using binary cross-entropy loss\n",
    "    student_loss = dice_loss(student_preds.clamp(min = 0, max = 1), hard_labels)#nn.functional.binary_cross_entropy_with_logits(student_preds, hard_labels)\n",
    "    \n",
    "    # Combine the soft and hard losses\n",
    "    loss = alpha * kl_loss + (1 - alpha) * student_loss\n",
    "\n",
    "    #loss = nn.KLDivLoss()(F.log_softmax(student_preds/temperature, dim=1),\n",
    "    #                         F.softmax(teacher_preds/temperature, dim=1)) * (alpha * temperature * temperature) + \\\n",
    "    #          dice_loss(student_preds.clamp(min = 0, max = 1), hard_labels) * (1. - alpha)\n",
    "    return loss\n",
    "\n",
    "def train_distilled(model, optimizer, train_loader):\n",
    "    model.train().cuda()\n",
    "    criterion = nn.BCEWithLogitsLoss()\n",
    "    ll = []\n",
    "    dl = []\n",
    "    with tqdm(total=len(train_loader)*train_loader.batch_size, desc=f'Training', unit='img') as pbar:\n",
    "        for i, (img, gt) in enumerate(train_loader):\n",
    "            #print('i', i)\n",
    "            if torch.cuda.is_available():\n",
    "                img, gt = img.cuda(), gt.cuda()\n",
    "            \n",
    "            img, gt = Variable(img), Variable(gt)\n",
    "\n",
    "            teacher_output = g_teacher_model(img).detach()\n",
    "\n",
    "            if torch.cuda.is_available():\n",
    "                teacher_output = teacher_output.cuda()\n",
    "            \n",
    "            teacher_output =  Variable(teacher_output)\n",
    "\n",
    "\n",
    "            optimizer.zero_grad()\n",
    "            student_output = model(img)\n",
    "            \n",
    "            gt = gt.clamp(min = 0, max = 1)\n",
    "            #student_output = student_output.clamp(min = 0, max = 1)\n",
    "            #teacher_output = teacher_output.clamp(min = 0, max = 1)\n",
    "\n",
    "            #student_loss = dice_loss(student_output, gt)\n",
    "            # Try pixel-wise loss later on\n",
    "            #loss = dice_loss(student_output, teacher_output) #pixel_wise_loss(student_output, teacher_output)\n",
    "            #kd_loss = F.kl_div(F.log_softmax(student_output / T, dim=1), F.softmax(teacher_output / T, dim=1), reduction='batchmean')\n",
    "            #loss = kd_loss * alpha + student_loss * (1 - alpha)\n",
    "            # How to factor T in ?\n",
    "            loss = kd_loss(student_output, teacher_output, gt, T, alpha)\n",
    "            \n",
    "            \n",
    "\n",
    "            # Still calculate dice on student output and gt\n",
    "            dice = dice_coeff(student_output, gt)\n",
    "\n",
    "            ll.append(loss.item())\n",
    "            dl.append(dice.item())\n",
    "\n",
    "            \n",
    "            loss.backward()\n",
    "\n",
    "            optimizer.step()\n",
    "\n",
    "            pbar.update(len(img))\n",
    "            pbar.set_postfix(**{'loss': loss.item(), \"dice\": dice.item()})\n",
    "    \n",
    "    mean_dice = np.mean(dl)\n",
    "    mean_loss = np.mean(ll)\n",
    "\n",
    "    print(\"Average dice {:.3f} and loss {:.3f} over this epoch.\".format(mean_dice, mean_loss))\n",
    "\n",
    "    return mean_dice, mean_loss\n",
    "\n",
    "def model_training(model, train_loader, val_loader, trainFun, evalFun, n_epochs, name=\"model\"):\n",
    "    #model = copy.deepcopy(model)\n",
    "    optimizer = torch.optim.Adam(model.parameters(), lr=1e-3)\n",
    "    scheduler = StepLR(optimizer, step_size = 100, gamma = 0.2)\n",
    "\n",
    "    former_best_dice = 0 # Worst possible\n",
    "    former_best_loss = 1 # Worst possible\n",
    "    early_stopping_streak = 0\n",
    "\n",
    "    scheduled_saves = 0\n",
    "    best_modem = model\n",
    "\n",
    "    for epoch in range(n_epochs):\n",
    "        print(' --- training: epoch {}'.format(epoch+1))\n",
    "\n",
    "        # Train the model\n",
    "        train_dice, train_loss = trainFun(model, optimizer, train_loader)\n",
    "\n",
    "        # Modulate training rate\n",
    "        scheduler.step()\n",
    "\n",
    "        #evaluate for one epoch on validation set\n",
    "        valid_dice, valid_loss = evalFun(model, val_loader)\n",
    "        \n",
    "        #if val_metric is best, add checkpoint\n",
    "        if (epoch%5 == 0 or epoch==(n_epochs-1)):\n",
    "            scheduled_saves+=1\n",
    "        \n",
    "\n",
    "        if former_best_dice < valid_dice:\n",
    "            # dice is increasing\n",
    "            early_stopping_streak = 0\n",
    "            best_modem = copy.deepcopy(model)\n",
    "            if scheduled_saves > 0:\n",
    "                scheduled_saves -= 1\n",
    "                save_model(model, model_save_path+name+\"_dice_{:.3f}_loss_{:.3f}_epoch_{}.pth\".format(valid_dice, valid_loss, epoch+1))\n",
    "        else:\n",
    "            # Is decresing\n",
    "            early_stopping_streak += 1\n",
    "            if early_stopping_streak >= 15:\n",
    "                # 15 consecutive epochs without improvement in dice\n",
    "                print(\"Early stopping at epoch {}\".format(epoch+1))\n",
    "                break\n",
    "        \n",
    "        former_best_dice = max(former_best_dice, valid_dice)\n",
    "        former_best_loss = min(former_best_loss, valid_loss)\n",
    "        \n",
    "    return best_modem\n"
   ]
  },
  {
   "cell_type": "code",
   "execution_count": 8,
   "metadata": {},
   "outputs": [],
   "source": [
    "n_epochs = 3\n",
    "n_models = 10"
   ]
  },
  {
   "cell_type": "code",
   "execution_count": 9,
   "metadata": {},
   "outputs": [
    {
     "name": "stdout",
     "output_type": "stream",
     "text": [
      " --- training: epoch 1\n"
     ]
    },
    {
     "name": "stderr",
     "output_type": "stream",
     "text": [
      "Training: 100%|█████████▉| 2504/2510 [00:25<00:00, 96.96img/s, dice=0.695, loss=0.188]   "
     ]
    },
    {
     "name": "stdout",
     "output_type": "stream",
     "text": [
      "Average dice 0.856 and loss 0.814 over this epoch.\n"
     ]
    },
    {
     "name": "stderr",
     "output_type": "stream",
     "text": [
      "\n"
     ]
    },
    {
     "name": "stdout",
     "output_type": "stream",
     "text": [
      "Eval metrics : dice 0.356 and loss 0.538.\n",
      " --- training: epoch 2\n"
     ]
    },
    {
     "name": "stderr",
     "output_type": "stream",
     "text": [
      "Training: 100%|█████████▉| 2504/2510 [00:23<00:00, 104.85img/s, dice=0.395, loss=0.0883]"
     ]
    },
    {
     "name": "stdout",
     "output_type": "stream",
     "text": [
      "Average dice 0.429 and loss 0.321 over this epoch.\n"
     ]
    },
    {
     "name": "stderr",
     "output_type": "stream",
     "text": [
      "\n"
     ]
    },
    {
     "name": "stdout",
     "output_type": "stream",
     "text": [
      "Eval metrics : dice 0.411 and loss 0.454.\n",
      " --- training: epoch 3\n"
     ]
    },
    {
     "name": "stderr",
     "output_type": "stream",
     "text": [
      "Training: 100%|█████████▉| 2504/2510 [00:27<00:00, 92.68img/s, dice=0.303, loss=0.0877]"
     ]
    },
    {
     "name": "stdout",
     "output_type": "stream",
     "text": [
      "Average dice 0.572 and loss 0.182 over this epoch.\n"
     ]
    },
    {
     "name": "stderr",
     "output_type": "stream",
     "text": [
      "\n"
     ]
    },
    {
     "name": "stdout",
     "output_type": "stream",
     "text": [
      "Eval metrics : dice 0.287 and loss 0.645.\n",
      " --- training: epoch 1\n"
     ]
    },
    {
     "name": "stderr",
     "output_type": "stream",
     "text": [
      "Training: 100%|█████████▉| 2504/2510 [00:16<00:00, 155.15img/s, dice=0.265, loss=0.602]"
     ]
    },
    {
     "name": "stdout",
     "output_type": "stream",
     "text": [
      "Average dice 0.291 and loss 0.611 over this epoch.\n"
     ]
    },
    {
     "name": "stderr",
     "output_type": "stream",
     "text": [
      "\n"
     ]
    },
    {
     "name": "stdout",
     "output_type": "stream",
     "text": [
      "Eval metrics : dice 0.239 and loss 0.607.\n",
      " --- training: epoch 2\n"
     ]
    },
    {
     "name": "stderr",
     "output_type": "stream",
     "text": [
      "Training: 100%|█████████▉| 2504/2510 [00:16<00:00, 155.54img/s, dice=0.318, loss=0.46] "
     ]
    },
    {
     "name": "stdout",
     "output_type": "stream",
     "text": [
      "Average dice 0.425 and loss 0.410 over this epoch.\n"
     ]
    },
    {
     "name": "stderr",
     "output_type": "stream",
     "text": [
      "\n"
     ]
    },
    {
     "name": "stdout",
     "output_type": "stream",
     "text": [
      "Eval metrics : dice 0.313 and loss 0.529.\n",
      " --- training: epoch 3\n"
     ]
    },
    {
     "name": "stderr",
     "output_type": "stream",
     "text": [
      "Training: 100%|█████████▉| 2504/2510 [00:16<00:00, 155.07img/s, dice=0.52, loss=0.284] "
     ]
    },
    {
     "name": "stdout",
     "output_type": "stream",
     "text": [
      "Average dice 0.492 and loss 0.317 over this epoch.\n"
     ]
    },
    {
     "name": "stderr",
     "output_type": "stream",
     "text": [
      "\n"
     ]
    },
    {
     "name": "stdout",
     "output_type": "stream",
     "text": [
      "Eval metrics : dice 0.479 and loss 0.320.\n",
      " --- training: epoch 1\n"
     ]
    },
    {
     "name": "stderr",
     "output_type": "stream",
     "text": [
      "Training: 100%|█████████▉| 2504/2510 [00:29<00:00, 84.84img/s, dice=0.0107, loss=0.389] "
     ]
    },
    {
     "name": "stdout",
     "output_type": "stream",
     "text": [
      "Average dice -1.340 and loss 1.212 over this epoch.\n"
     ]
    },
    {
     "name": "stderr",
     "output_type": "stream",
     "text": [
      "\n"
     ]
    },
    {
     "name": "stdout",
     "output_type": "stream",
     "text": [
      "Eval metrics : dice 0.250 and loss 1.000.\n",
      " --- training: epoch 2\n"
     ]
    },
    {
     "name": "stderr",
     "output_type": "stream",
     "text": [
      "Training: 100%|█████████▉| 2504/2510 [00:29<00:00, 84.96img/s, dice=0.147, loss=0.516]  "
     ]
    },
    {
     "name": "stdout",
     "output_type": "stream",
     "text": [
      "Average dice -0.049 and loss 1.010 over this epoch.\n"
     ]
    },
    {
     "name": "stderr",
     "output_type": "stream",
     "text": [
      "\n"
     ]
    },
    {
     "name": "stdout",
     "output_type": "stream",
     "text": [
      "Eval metrics : dice 0.137 and loss 0.829.\n",
      " --- training: epoch 3\n"
     ]
    },
    {
     "name": "stderr",
     "output_type": "stream",
     "text": [
      "Training: 100%|█████████▉| 2504/2510 [00:29<00:00, 84.67img/s, dice=0.179, loss=0.334] "
     ]
    },
    {
     "name": "stdout",
     "output_type": "stream",
     "text": [
      "Average dice 0.169 and loss 0.857 over this epoch.\n"
     ]
    },
    {
     "name": "stderr",
     "output_type": "stream",
     "text": [
      "\n"
     ]
    },
    {
     "name": "stdout",
     "output_type": "stream",
     "text": [
      "Eval metrics : dice 0.174 and loss 0.801.\n",
      " --- training: epoch 1\n"
     ]
    },
    {
     "name": "stderr",
     "output_type": "stream",
     "text": [
      "Training: 100%|█████████▉| 2504/2510 [00:17<00:00, 139.31img/s, dice=0.496, loss=0.343]"
     ]
    },
    {
     "name": "stdout",
     "output_type": "stream",
     "text": [
      "Average dice 0.373 and loss 0.503 over this epoch.\n"
     ]
    },
    {
     "name": "stderr",
     "output_type": "stream",
     "text": [
      "\n"
     ]
    },
    {
     "name": "stdout",
     "output_type": "stream",
     "text": [
      "Eval metrics : dice 0.226 and loss 0.637.\n",
      " --- training: epoch 2\n"
     ]
    },
    {
     "name": "stderr",
     "output_type": "stream",
     "text": [
      "Training: 100%|█████████▉| 2504/2510 [00:18<00:00, 138.41img/s, dice=0.403, loss=0.168]\n"
     ]
    },
    {
     "name": "stdout",
     "output_type": "stream",
     "text": [
      "Average dice 0.528 and loss 0.270 over this epoch.\n",
      "Eval metrics : dice 0.466 and loss 0.306.\n",
      " --- training: epoch 3\n"
     ]
    },
    {
     "name": "stderr",
     "output_type": "stream",
     "text": [
      "Training: 100%|█████████▉| 2504/2510 [00:18<00:00, 137.77img/s, dice=0.362, loss=0.189] \n"
     ]
    },
    {
     "name": "stdout",
     "output_type": "stream",
     "text": [
      "Average dice 0.608 and loss 0.198 over this epoch.\n",
      "Eval metrics : dice 0.589 and loss 0.292.\n",
      " --- training: epoch 1\n"
     ]
    },
    {
     "name": "stderr",
     "output_type": "stream",
     "text": [
      "Training:  29%|██▉       | 730/2510 [00:09<00:21, 81.57img/s, dice=0.201, loss=0.588]  "
     ]
    }
   ],
   "source": [
    "global g_teacher_model\n",
    "g_teacher_model = load_model(UNet_modular(channel_depth=32, n_channels=3, n_classes=1), model_save_path+\"best_teacher_model_parameters_3352257\")\n",
    "#model_descr = \"_model_parameters_{}\".format(get_trainable_param(g_teacher_model))\n",
    "#g_teacher_model = model_training(g_teacher_model, train_dataloader, validation_dataloader, train, evaluate, 50, \"teacher\"+model_descr)\n",
    "#save_model(g_teacher_model, model_save_path+\"best_teacher\"+model_descr)\n",
    "\n",
    "for i in range(1, n_models+1):\n",
    "    \n",
    "    model = load_model(UNet_modular(channel_depth=2*i, n_channels=3, n_classes=1))\n",
    "    model_descr = \"_model_{}_parameters_{}\".format(i, get_trainable_param(model))\n",
    "\n",
    "    d_model = model_training(model, train_dataloader, validation_dataloader, train_distilled, evaluate, n_epochs, \"distilled_model\"+model_descr)\n",
    "    save_model(d_model, model_save_path+\"best_distilled_model\"+model_descr)\n",
    "\n",
    "    model = load_model(UNet_modular(channel_depth=2*i, n_channels=3, n_classes=1))\n",
    "    \n",
    "    nd_model = model_training(model, train_dataloader, validation_dataloader, train, evaluate, n_epochs, \"not_distilled\"+model_descr)\n",
    "    save_model(nd_model, model_save_path+\"best_not_distilled\"+model_descr)\n",
    "    \n"
   ]
  },
  {
   "attachments": {},
   "cell_type": "markdown",
   "metadata": {},
   "source": [
    "# Testing"
   ]
  },
  {
   "cell_type": "code",
   "execution_count": null,
   "metadata": {},
   "outputs": [],
   "source": [
    "# Tast a model\n",
    "show_prediction(g_teacher_model, test_dataloader, 3)"
   ]
  },
  {
   "attachments": {},
   "cell_type": "markdown",
   "metadata": {},
   "source": [
    "## Load models for testing"
   ]
  },
  {
   "cell_type": "code",
   "execution_count": null,
   "metadata": {},
   "outputs": [],
   "source": [
    "not_distilled_models = [] \n",
    "\n",
    "distilled_models = []\n",
    "\n",
    "n_parameters = []\n",
    "\n",
    "# Function that returns the path of models that start with a certain string in increasing order\n",
    "def get_model_paths(path, start):\n",
    "    paths = []\n",
    "    for file in os.listdir(path):\n",
    "        if file.startswith(start):\n",
    "            paths.append(path+file)\n",
    "    paths.sort()\n",
    "    return paths\n",
    "\n",
    "teacher_paths = get_model_paths(model_save_path, \"best_teacher\")\n",
    "distilled_paths = get_model_paths(model_save_path, \"best_distilled_model\")\n",
    "not_distilled_paths = get_model_paths(model_save_path, \"best_not_distilled\")\n",
    "\n",
    "print(\"not distilled models: \", not_distilled_paths)\n",
    "\n",
    "for i in range(3):\n",
    "    model_index = i+1\n",
    "    print(not_distilled_paths[i])\n",
    "    model = UNet_modular(channel_depth=2*model_index, n_channels=3, n_classes=1)\n",
    "    not_distilled_models.append(load_model(model, not_distilled_paths[i]))\n",
    "    distilled_models.append(load_model(model, distilled_paths[i]))\n",
    "    n_parameters.append(get_trainable_param(model))\n"
   ]
  },
  {
   "cell_type": "code",
   "execution_count": null,
   "metadata": {},
   "outputs": [],
   "source": [
    "not_distilled_dice = []\n",
    "not_distilled_accuracy = []\n",
    "\n",
    "distilled_dice = []\n",
    "distilled_accuracy = []\n",
    "\n",
    "n_tests = 5\n",
    "\n",
    "print(\"Testing models without distillation\")\n",
    "for i in range(0, len(not_distilled_models)):\n",
    "    nd_model = not_distilled_models[i]\n",
    "    d_model = distilled_models[i]\n",
    "\n",
    "    not_distilled_dice.append([])\n",
    "    not_distilled_accuracy.append([])\n",
    "\n",
    "    distilled_dice.append([])\n",
    "    distilled_accuracy.append([])\n",
    "\n",
    "    for j in range(n_tests):\n",
    "        \n",
    "        loss, acc = evaluate(nd_model, test_dataloader)\n",
    "        not_distilled_dice[i].append(loss)\n",
    "        not_distilled_accuracy[i].append(acc)\n",
    "\n",
    "        loss, acc = evaluate(d_model, test_dataloader)\n",
    "        distilled_dice[i].append(loss)\n",
    "        distilled_accuracy[i].append(acc)"
   ]
  },
  {
   "attachments": {},
   "cell_type": "markdown",
   "metadata": {},
   "source": [
    "# Plot data"
   ]
  },
  {
   "cell_type": "code",
   "execution_count": null,
   "metadata": {},
   "outputs": [],
   "source": [
    "# PLOT ACCURACY\n",
    "not_distilled_dice_means = np.mean(not_distilled_dice, axis=1)\n",
    "\n",
    "distilled_dice_means = np.mean(distilled_dice, axis=1)\n",
    "\n",
    "not_distilled_loss_means = np.mean(not_distilled_accuracy, axis=1)\n",
    "\n",
    "distilled_loss_means = np.mean(distilled_accuracy, axis=1)\n",
    "\n",
    "\n",
    "# Plot accuracy in respect to the number of parameters\n",
    "plt.figure(1)\n",
    "plt.clf()\n",
    "plt.plot(n_parameters, not_distilled_dice_means,\n",
    "            'g-', label='No distillation')\n",
    "plt.plot(n_parameters, distilled_dice_means,\n",
    "            'r-', label='Distillation')\n",
    "plt.xlabel(\"Number of parameters\")\n",
    "plt.ylabel(\"Accuracy Value\")\n",
    "plt.title(\"Accuracy Monitoring among models\")\n",
    "plt.legend()\n",
    "plt.savefig(save_path+\"/training_monitoring/accuracy_param.png\")\n",
    "plt.show()\n",
    "\n",
    "\n",
    "\n",
    "# Plot the gain in accuracy in respect to the number of parameters for the distilled models\n",
    "plt.figure(1)\n",
    "plt.clf()\n",
    "plt.plot(n_parameters, np.array(distilled_dice_means)-np.array(not_distilled_dice_means),\n",
    "            'r-', label='Gain')\n",
    "plt.xlabel(\"Number of parameters\")\n",
    "plt.ylabel(\"Accuracy Value\")\n",
    "plt.title(\"Accuracy Gain Monitoring among models\")\n",
    "plt.legend()\n",
    "plt.savefig(save_path+\"/training_monitoring/accuracy_gain_param.png\")\n",
    "plt.show()\n",
    "\n",
    "\n",
    "\n",
    "# PLOT LOSS\n",
    "\n",
    "# Plot loss in respect to the number of parameters\n",
    "plt.figure(1)\n",
    "plt.clf()\n",
    "plt.plot(n_parameters, not_distilled_loss_means,\n",
    "            'g-', label='No distillation')\n",
    "plt.plot(n_parameters, distilled_loss_means,\n",
    "            'r-', label='Distillation')\n",
    "plt.xlabel(\"Number of parameters\")\n",
    "plt.ylabel(\"Loss Value\")\n",
    "plt.title(\"Loss Monitoring among models\")\n",
    "plt.legend()\n",
    "plt.savefig(save_path+\"/training_monitoring/loss_param.png\")\n",
    "plt.show()\n",
    "\n",
    "\n",
    "# Plot the gain in loss in respect to the number of parameters for the distilled models\n",
    "plt.figure(1)\n",
    "plt.clf()\n",
    "plt.plot(n_parameters, np.array(distilled_loss_means)-np.array(not_distilled_loss_means),\n",
    "            'r-', label='Gain')\n",
    "plt.xlabel(\"Number of parameters\")\n",
    "plt.ylabel(\"Loss Value\")\n",
    "plt.title(\"Loss Gain Monitoring among models\")\n",
    "plt.legend()\n",
    "plt.savefig(save_path+\"/training_monitoring/loss_gain_param.png\")\n",
    "plt.show()\n",
    "\n",
    "log_file = open(save_path+\"/training_monitoring/raw_data\"+session_name+\".txt\", \"w\")\n",
    "log_file.write(\"Not distilled data\\n\")\n",
    "log_file.write(\"number of param : \" + str(n_parameters) + \"\\n\")\n",
    "log_file.write(\"accuracy : \" + str(not_distilled_accuracy) + \"\\n\")\n",
    "log_file.write(\"loss : \" + str(not_distilled_dice) + \"\\n\")\n",
    "\n",
    "\n",
    "log_file.write(\"Distilled data\\n\")\n",
    "log_file.write(\"number of param : \" + str(n_parameters) + \"\\n\")\n",
    "log_file.write(\"accuracy : \" + str(distilled_accuracy) + \"\\n\")\n",
    "log_file.write(\"loss : \" + str(distilled_dice) + \"\\n\")\n",
    "\n",
    "\n",
    "log_file.close()\n"
   ]
  },
  {
   "cell_type": "code",
   "execution_count": null,
   "metadata": {},
   "outputs": [],
   "source": [
    "print(not_distilled_param)\n",
    "print(not_distilled_accuracy)\n",
    "print(not_distilled_dice)\n",
    "\n",
    "print(distilled_param)\n",
    "print(distilled_accuracy)\n",
    "print(distilled_dice)"
   ]
  }
 ],
 "metadata": {
  "kernelspec": {
   "display_name": "env",
   "language": "python",
   "name": "python3"
  },
  "language_info": {
   "codemirror_mode": {
    "name": "ipython",
    "version": 3
   },
   "file_extension": ".py",
   "mimetype": "text/x-python",
   "name": "python",
   "nbconvert_exporter": "python",
   "pygments_lexer": "ipython3",
   "version": "3.6.9"
  },
  "orig_nbformat": 4,
  "vscode": {
   "interpreter": {
    "hash": "fb5e5b18ee203a6716e147d61d87e90492f0bff6defd22583400cdaccb6acdb3"
   }
  }
 },
 "nbformat": 4,
 "nbformat_minor": 2
}
