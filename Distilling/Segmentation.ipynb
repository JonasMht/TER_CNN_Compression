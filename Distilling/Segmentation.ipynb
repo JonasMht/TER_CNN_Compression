{
 "cells": [
  {
   "attachments": {},
   "cell_type": "markdown",
   "metadata": {},
   "source": [
    "# Projet TER"
   ]
  },
  {
   "cell_type": "code",
   "execution_count": 1,
   "metadata": {},
   "outputs": [
    {
     "name": "stderr",
     "output_type": "stream",
     "text": [
      "/home/mehtali/env/lib/python3.6/site-packages/tqdm/auto.py:22: TqdmWarning: IProgress not found. Please update jupyter and ipywidgets. See https://ipywidgets.readthedocs.io/en/stable/user_install.html\n",
      "  from .autonotebook import tqdm as notebook_tqdm\n"
     ]
    },
    {
     "name": "stdout",
     "output_type": "stream",
     "text": [
      "Random Seed:  999\n"
     ]
    },
    {
     "data": {
      "text/plain": [
       "<torch._C.Generator at 0x7ff6919a6fc0>"
      ]
     },
     "execution_count": 1,
     "metadata": {},
     "output_type": "execute_result"
    }
   ],
   "source": [
    "from __future__ import print_function\n",
    "# %matplotlib inline\n",
    "import argparse\n",
    "import os\n",
    "import os.path as osp\n",
    "import random\n",
    "import torch\n",
    "import torch.nn as nn\n",
    "import torch.nn.functional as F\n",
    "import torch.nn.parallel\n",
    "import torch.backends.cudnn as cudnn\n",
    "import torch.optim as optim\n",
    "import torch.utils.data as data\n",
    "from torch.autograd import Variable\n",
    "from torch.optim.lr_scheduler import StepLR\n",
    "import torchvision.datasets as dset\n",
    "import torchvision.transforms as transforms\n",
    "import torchvision.utils as vutils\n",
    "import numpy as np\n",
    "import matplotlib.pyplot as plt\n",
    "import matplotlib.animation as animation\n",
    "from IPython.display import HTML\n",
    "from PIL import Image\n",
    "from tqdm import tqdm\n",
    "from torch import Tensor\n",
    "import pickle\n",
    "from datetime import datetime\n",
    "\n",
    "import copy # To make a copy of a model\n",
    "\n",
    "\n",
    "from torchvision import datasets, transforms\n",
    "from torch.utils.data import random_split\n",
    "\n",
    "from torchsummary import summary\n",
    "\n",
    "\n",
    "import utils\n",
    "from utils.dataset import SegmentationDataSet\n",
    "from utils.printer import source_printer\n",
    "from utils.printer import target_printer\n",
    "from utils.model import GenericNetwork\n",
    "from utils.model import TeacherNetwork\n",
    "from utils.model import StudentNetworkSmall\n",
    "from utils.model import UNet_modular\n",
    "from utils.model import UNet\n",
    "from utils.model import YNet\n",
    "from utils.model import Recons_net\n",
    "from utils.model import ClassifNet\n",
    "from utils.utils import getLossAccuracyOnDataset\n",
    "from utils.utils import preprocessing\n",
    "from utils.utils import IoU\n",
    "from utils.utils import postprocessing\n",
    "from utils.utils import dice_coeff\n",
    "from utils.utils import multiclass_dice_coeff\n",
    "from utils.utils import dice_loss\n",
    "from utils.utils import smooth\n",
    "\n",
    "\n",
    "# Set random seed for reproducibility\n",
    "manualSeed = 999\n",
    "# manualSeed = random.randint(1, 10000) # use if you want new results\n",
    "print(\"Random Seed: \", manualSeed)\n",
    "random.seed(manualSeed)\n",
    "torch.manual_seed(manualSeed)\n"
   ]
  },
  {
   "cell_type": "code",
   "execution_count": 2,
   "metadata": {},
   "outputs": [],
   "source": [
    "def load_model(model, path=\"\"):\n",
    "\tif len(path)>0:\n",
    "\t\tstate_dict = torch.load(path)\n",
    "\t\tmodel.load_state_dict(state_dict)\n",
    "\tmodel.to(device=device)\n",
    "\n",
    "\tif (device.type == 'cuda') and (ngpu > 1):\n",
    "\t\tprint(\"Data Parallel\")\n",
    "\t\tmodel = nn.DataParallel(model, list(range(ngpu)))\n",
    "\t\n",
    "\treturn model\n",
    "\n",
    "\n",
    "def load_student_model():\n",
    "\t# STUDENT\n",
    "\treturn load_model(UNet_modular(channel_depth = 16, n_channels = 3, n_classes=3))\n",
    "\n",
    "\n",
    "def load_teacher_model():\n",
    "\t# TEACHER\n",
    "\treturn load_model(UNet_modular(channel_depth = 32, n_channels = 3, n_classes=3))\n",
    "\n",
    "# Other\n",
    "\n",
    "def save_model(model, path):\n",
    "\ttorch.save(model.state_dict(), path)\n",
    "\n",
    "# Function that returns a list of paths in a folder that start with a word\n",
    "def get_path_list(path, start_with=\"\"):\n",
    "\tpath_list = [osp.join(path, f) for f in os.listdir(path) if f.startswith(start_with)]\n",
    "\treturn path_list\n",
    "\n",
    "# Function that returns the names in a path list with the last number in the name\n",
    "def get_last_number_in_name(path_list):\n",
    "\tlast_number = [int(f.split(\"_\")[-1].split(\".\")[0]) for f in path_list]\n",
    "\treturn last_number\n",
    "\n",
    "def get_trainable_param(model):\n",
    "\tmodel_parameters = filter(lambda p: p.requires_grad, model.parameters())\n",
    "\treturn sum([np.prod(p.size()) for p in model_parameters])\n"
   ]
  },
  {
   "cell_type": "code",
   "execution_count": 3,
   "metadata": {},
   "outputs": [],
   "source": [
    "date = str(datetime.now()).split(' ')[0]\n",
    "heure = str(datetime.now()).split(' ')[1].split('.')[0]\n",
    "\n",
    "# Root directory for dataset\n",
    "# Refaire nos data folder et tout pour que ce soit\n",
    "# au format demandé par le dataloader\n",
    "\n",
    "# Leave empty if you want to use the default name or load a previous session\n",
    "session_name = \"\"\n",
    "\n",
    "if len(session_name) == 0:\n",
    "\tsession_name = \"IGBMC_I3\"+\"_\"+str(date)+\"_\"+str(heure)\n",
    "\t\n",
    "\n",
    "dataset_folder = \"/home/mehtali/TER_CNN_Compression/Data/training-data/data/IGBMC_I3_diversifie/patches/\"\n",
    "train_list = dataset_folder+\"train_6500_i3.txt\"\n",
    "test_list = dataset_folder+\"test_5000-7500_i3.txt\"\n",
    "validate_list = dataset_folder+\"test_1000.txt\"\n",
    "\n",
    "\n",
    "# Number of workers for dataloader\n",
    "workers = 10\n",
    "\n",
    "# Batch size during training (low batch_size if there are memory issues)\n",
    "batch_size = 10\n",
    "\n",
    "# Spatial size of training images. All images will be resized to this\n",
    "#   size using a transformer.\n",
    "image_size_source = 256\n",
    "image_size_target = 256\n",
    "image_size_discriminator = 64\n",
    "\n",
    "# Number of channels in the training images. For color images this is 3\n",
    "nc = 3\n",
    "\n",
    "# Number of training epochs\n",
    "num_epochs = 20\n",
    "\n",
    "# Learning rate for optimizers\n",
    "learning_rate = 1e-5  # e-5\n",
    "\n",
    "# Beta1 hyperparam for Adam optimizers\n",
    "beta1 = 0.5\n",
    "\n",
    "# Number of GPUs available. Use 0 for CPU mode.\n",
    "ngpu = 1\n",
    "\n",
    "# Saves every batch_save_interval\n",
    "batch_save_interval = 2\n",
    "\n",
    "# some net variable\n",
    "amp = False\n",
    "\n",
    "save_path =  \"../Data/Saves/\" + session_name\n",
    "model_save_path = save_path+\"/newtork_weigths/\"\n",
    "\n",
    "if not os.path.exists(\"../Data\"):\n",
    "\tos.mkdir(\"../Data\")\n",
    "if not os.path.exists(\"../Data/Saves\" ):\n",
    "\tos.mkdir(\"../Data/Saves\" )\n",
    "\n",
    "# We create this folder (only if it doesn't exists) to save weights of the training at some keys epoch\n",
    "if not os.path.exists(save_path):\n",
    "\tos.mkdir(save_path)\n",
    "\tos.mkdir(save_path+\"/loss-dice_listes\")\n",
    "\tos.mkdir(save_path+\"/newtork_weigths\")\n",
    "\tos.mkdir(save_path+\"/training_monitoring\")\n",
    "\n",
    "log_file = open(save_path+\"/log+\"+\"_\"+date+\"_\"+heure+\".txt\", \"w\")\n",
    "\n",
    "log_file.write(\"dataset_folder :\"+dataset_folder+\"\\n\")\n",
    "log_file.write(\"batch_size=\"+str(batch_size)+\"\\n\")\n",
    "log_file.write(\"learning_rate_net=\"+str(learning_rate)+\"\\n\")\n",
    "log_file.write(\"num_epoch=\"+str(num_epochs)+\"\\n\")\n",
    "log_file.write(\"nc=\"+str(nc)+\"\\n\")\n",
    "log_file.close()\n"
   ]
  },
  {
   "cell_type": "code",
   "execution_count": 4,
   "metadata": {},
   "outputs": [
    {
     "name": "stdout",
     "output_type": "stream",
     "text": [
      "number of gpus : 4\n",
      "device ID cuda:0\n",
      "nom du GPU NVIDIA GeForce RTX 2080 Ti\n"
     ]
    }
   ],
   "source": [
    "print(\"number of gpus :\", torch.cuda.device_count())\n",
    "\n",
    "# Decide which device we want to run on\n",
    "device = torch.device(\"cuda:0\" if (\n",
    "\ttorch.cuda.is_available() and ngpu > 0) else \"cpu\")\n",
    "\n",
    "# On regarde l'identifiant du GPU ou CPU sur lequel on travaille\n",
    "print(\"device ID\", device)\n",
    "print(\"nom du GPU\", torch.cuda.get_device_name(device))  # On vérifie son \"nom\"\n",
    "\n",
    "torch.cuda.empty_cache()\n"
   ]
  },
  {
   "cell_type": "code",
   "execution_count": 5,
   "metadata": {},
   "outputs": [
    {
     "name": "stdout",
     "output_type": "stream",
     "text": [
      "images source :  torch.Size([10, 3, 256, 256])\n",
      "mask source : torch.Size([10, 1, 256, 256])\n"
     ]
    },
    {
     "data": {
      "text/plain": [
       "<matplotlib.image.AxesImage at 0x7ff6146f2748>"
      ]
     },
     "execution_count": 5,
     "metadata": {},
     "output_type": "execute_result"
    },
    {
     "data": {
      "image/png": "[encoded data removed]",
      "text/plain": [
       "<Figure size 576x576 with 1 Axes>"
      ]
     },
     "metadata": {
      "needs_background": "light"
     },
     "output_type": "display_data"
    }
   ],
   "source": [
    "# For data augmentation\n",
    "\n",
    "geometric_augs = [\n",
    "\t# transforms.Resize((256, 256)), # Makes it easier to process using net\n",
    "\t# transforms.RandomRotation(degrees=(0, 180)),\n",
    "\ttransforms.RandomHorizontalFlip(),\n",
    "\ttransforms.RandomVerticalFlip(),\n",
    "\t# transforms.RandomRotation(45),\n",
    "]\n",
    "\n",
    "color_augs = [\n",
    "\t# transforms.ColorJitter(hue=0.05, saturation=0.4)\n",
    "]\n",
    "\n",
    "\n",
    "def make_tfs(augs):\n",
    "\treturn transforms.Compose([transforms.ToPILImage()]+augs + [transforms.ToTensor()])\n",
    "\n",
    "\n",
    "tfs = transforms.Compose(geometric_augs)\n",
    "\n",
    "\n",
    "# Importation des images et masques de i3\n",
    "train_dataset = SegmentationDataSet(root=dataset_folder,\n",
    "\t\t\t\t\t\t\t  list_path=train_list,\n",
    "\t\t\t\t\t\t\t  #transform_img=make_tfs(\n",
    "\t\t\t\t\t\t\t\t#  geometric_augs + color_augs),\n",
    "\t\t\t\t\t\t\t  #transform_label=make_tfs(geometric_augs)\n",
    "\t\t\t\t\t\t\t  )\n",
    "\n",
    "# Not a good idea to augment the test data\n",
    "test_dataset = SegmentationDataSet(root=dataset_folder,\n",
    "\t\t\t\t\t\t\t\tlist_path=test_list\n",
    "\t\t\t\t\t\t\t\t)\n",
    "# Not a good idea to augment the test data\n",
    "validate_dataset = SegmentationDataSet(root=dataset_folder,\n",
    "\t\t\t\t\t\t\t\tlist_path=validate_list\n",
    "\t\t\t\t\t\t\t\t)\n",
    "\n",
    "\n",
    "\n",
    "train_dataloader = torch.utils.data.DataLoader(train_dataset,\n",
    "\t\t\t\t\t\t\t\t\t\t\t   batch_size=batch_size,\n",
    "\t\t\t\t\t\t\t\t\t\t\t   shuffle=True,\n",
    "\t\t\t\t\t\t\t\t\t\t\t   num_workers=workers)\n",
    "\n",
    "test_dataloader = torch.utils.data.DataLoader(test_dataset,\n",
    "\t\t\t\t\t\t\t\t\t\t\t  batch_size=batch_size,\n",
    "\t\t\t\t\t\t\t\t\t\t\t  shuffle=True,\n",
    "\t\t\t\t\t\t\t\t\t\t\t  num_workers=workers)\n",
    "\n",
    "validation_dataloader = torch.utils.data.DataLoader(validate_dataset,\n",
    "\t\t\t\t\t\t\t\t\t\t\t  batch_size=batch_size,\n",
    "\t\t\t\t\t\t\t\t\t\t\t  shuffle=True,\n",
    "\t\t\t\t\t\t\t\t\t\t\t  num_workers=workers)\n",
    "\n",
    "\n",
    "batch = next(iter(train_dataloader))\n",
    "\n",
    "# On affiche quelques exemple du batch pour vérifier qu'on a bien importé les données\n",
    "print(\"images source : \", batch[0].shape)\n",
    "print(\"mask source :\", batch[1].shape)\n",
    "\n",
    "\n",
    "\n",
    "plt.figure(figsize=(8, 8))\n",
    "plt.axis(\"off\")\n",
    "plt.title(\"Training images source - a batch\")\n",
    "plt.imshow(np.transpose(vutils.make_grid(batch[0].to(\n",
    "\tdevice)[:64], padding=2, normalize=True).cpu(), (1, 2, 0)))\n"
   ]
  },
  {
   "cell_type": "markdown",
   "metadata": {},
   "source": [
    "# Neural net architecture"
   ]
  },
  {
   "cell_type": "markdown",
   "metadata": {},
   "source": [
    "## Load or create neural net"
   ]
  },
  {
   "cell_type": "code",
   "execution_count": 6,
   "metadata": {},
   "outputs": [
    {
     "name": "stdout",
     "output_type": "stream",
     "text": [
      "We are running U-Net on : NVIDIA GeForce RTX 2080 Ti\n",
      "Teacher network summary\n",
      "Student network summary\n"
     ]
    }
   ],
   "source": [
    "# On revérifie qu'on tourne bien le réseau de neuronnes sur le GPU\n",
    "print(\"We are running U-Net on :\", torch.cuda.get_device_name(device))\n",
    "\n",
    "print(\"Teacher network summary\")\n",
    "teacher_summary = summary(load_teacher_model(), (3, 256, 256), verbose=0)\n",
    "\n",
    "print(\"Student network summary\")\n",
    "student_summary = summary(load_student_model(), (3, 256, 256), verbose=0)\n",
    "\n",
    "\n",
    "log_file = open(save_path+\"/model_architectures+\"+\"_\"+date+\"_\"+heure+\".txt\", \"w\")\n",
    "\n",
    "log_file.write(\"Teacher network summary\\n\"+str(teacher_summary)+\"\\n\\n\")\n",
    "log_file.write(\"Student network summary\\n\"+str(student_summary)+\"\\n\")\n",
    "log_file.close()"
   ]
  },
  {
   "attachments": {},
   "cell_type": "markdown",
   "metadata": {},
   "source": [
    "## Training"
   ]
  },
  {
   "cell_type": "code",
   "execution_count": 7,
   "metadata": {},
   "outputs": [],
   "source": [
    "def evaluate(teacher, val_loader):\n",
    "\tteacher.eval().cuda()\n",
    "\n",
    "\tcriterion = nn.BCEWithLogitsLoss()\n",
    "\tll = []\n",
    "\tdl = []\n",
    "\twith torch.no_grad():\n",
    "\t\tfor i,(img,gt) in enumerate(val_loader):\n",
    "\t\t\tif torch.cuda.is_available():\n",
    "\t\t\t\timg, gt = img.cuda(), gt.cuda()\n",
    "\t\t\timg, gt = Variable(img), Variable(gt)\n",
    "\n",
    "\t\t\toutput = teacher(img)\n",
    "\t\t\toutput = output.clamp(min = 0, max = 1)\n",
    "\t\t\tgt = gt.clamp(min = 0, max = 1)\n",
    "\t\t\tloss = dice_loss(output, gt)\n",
    "\t\t\tdice = dice_coeff(output, gt)\n",
    "\t\t\tll.append(loss.item())\n",
    "\t\t\tdl.append(dice.item())\n",
    "\n",
    "\t\n",
    "\tmean_dice = np.mean(dl)\n",
    "\tmean_loss = np.mean(ll)\n",
    "\tprint(\"Eval metrics : dice {:.3f} and loss {:.3f}.\".format(mean_dice, mean_loss))\n",
    "\treturn mean_dice, mean_loss\n",
    "\n",
    "\n",
    "def train(model, optimizer, train_loader):\n",
    "\tmodel.train().cuda()\n",
    "\tcriterion = nn.BCEWithLogitsLoss()\n",
    "\tll = []\n",
    "\tdl = []\n",
    "\twith tqdm(total=len(train_loader)*train_loader.batch_size, desc=f'Training', unit='img') as pbar:\n",
    "\t\tfor i, (img, gt) in enumerate(train_loader):\n",
    "\t\t\t#print('i', i)\n",
    "\t\t\tif torch.cuda.is_available():\n",
    "\t\t\t\timg, gt = img.cuda(), gt.cuda()\n",
    "\t\t\t\n",
    "\t\t\timg, gt = Variable(img), Variable(gt)\n",
    "\n",
    "\t\t\toutput = model(img)\n",
    "\t\t\toutput = output.clamp(min = 0, max = 1)\n",
    "\t\t\tgt = gt.clamp(min = 0, max = 1)\n",
    "\t\t\tloss = dice_loss(output, gt)\n",
    "\t\t\tdice = dice_coeff(output, gt)\n",
    "\t\t\tll.append(loss.item())\n",
    "\t\t\tdl.append(dice.item())\n",
    "\n",
    "\t\t\t\n",
    "\t\t\toptimizer.zero_grad()\n",
    "\t\t\tloss.backward()\n",
    "\n",
    "\t\t\toptimizer.step()\n",
    "\n",
    "\t\t\tpbar.update(len(img))\n",
    "\t\t\tpbar.set_postfix(**{'loss': loss.item(), \"dice\": dice.item()})\n",
    "\t\n",
    "\tmean_dice = np.mean(dl)\n",
    "\tmean_loss = np.mean(ll)\n",
    "\n",
    "\tprint(\"Average dice {:.3f} and loss {:.3f} over this epoch.\".format(mean_dice, mean_loss))\n",
    "\n",
    "\treturn mean_dice, mean_loss\n",
    "\n",
    "\n",
    "# Glbal teacher model\n",
    "g_teacher_model = load_teacher_model()\n",
    "T = 0.85  # temperature for distillation loss\n",
    "# Using a higher value for T produces a softer probability distribution over classes\n",
    "alpha = 1.0\n",
    "# trade-off between soft-target (st) cross-entropy and true-target (tt) cross-entropy;\n",
    "# loss = alpha * st + (1 - alpha) * tt\n",
    "\n",
    "def train_distilled(model, optimizer, train_loader):\n",
    "\tmodel.train().cuda()\n",
    "\tcriterion = nn.BCEWithLogitsLoss()\n",
    "\tll = []\n",
    "\tdl = []\n",
    "\twith tqdm(total=len(train_loader)*train_loader.batch_size, desc=f'Training', unit='img') as pbar:\n",
    "\t\tfor i, (img, gt) in enumerate(train_loader):\n",
    "\t\t\t#print('i', i)\n",
    "\t\t\tif torch.cuda.is_available():\n",
    "\t\t\t\timg, gt = img.cuda(), gt.cuda()\n",
    "\t\t\t\n",
    "\t\t\timg, gt = Variable(img), Variable(gt)\n",
    "\n",
    "\t\t\tteacher_output = g_teacher_model(img)\n",
    "\n",
    "\t\t\tif torch.cuda.is_available():\n",
    "\t\t\t\tteacher_output = teacher_output.cuda()\n",
    "\t\t\t\n",
    "\t\t\tteacher_output =  Variable(teacher_output)\n",
    "\n",
    "\n",
    "\n",
    "\t\t\tstudent_output = model(img)\n",
    "\t\t\tstudent_output = student_output.clamp(min = 0, max = 1)\n",
    "\t\t\tgt = gt.clamp(min = 0, max = 1)\n",
    "\n",
    "\t\t\tstudent_output = student_output.clamp(min = 0, max = 1)\n",
    "\t\t\tteacher_output = teacher_output.clamp(min = 0, max = 1)\n",
    "\n",
    "\t\t\tstudent_loss = dice_loss(student_output, gt)\n",
    "\t\t\t# Try pixel-wise loss later on\n",
    "\t\t\t#kd_loss = dice_loss(student_output, teacher_output) #pixel_wise_loss(student_output, teacher_output)\n",
    "\t\t\tkd_loss = F.kl_div(F.log_softmax(student_output / T, dim=1), F.softmax(teacher_output / T, dim=1), reduction='batchmean')\n",
    "\t\t\t\n",
    "\t\t\tloss = kd_loss * alpha + student_loss * (1 - alpha)\n",
    "\n",
    "\t\t\t# Still calculate dice on student output and gt\n",
    "\t\t\tdice = dice_coeff(student_output, gt)\n",
    "\n",
    "\t\t\tll.append(loss.item())\n",
    "\t\t\tdl.append(dice.item())\n",
    "\n",
    "\t\t\t\n",
    "\t\t\toptimizer.zero_grad()\n",
    "\t\t\tloss.backward()\n",
    "\n",
    "\t\t\toptimizer.step()\n",
    "\n",
    "\t\t\tpbar.update(len(img))\n",
    "\t\t\tpbar.set_postfix(**{'loss': loss.item(), \"dice\": dice.item()})\n",
    "\t\n",
    "\tmean_dice = np.mean(dl)\n",
    "\tmean_loss = np.mean(ll)\n",
    "\n",
    "\tprint(\"Average dice {:.3f} and loss {:.3f} over this epoch.\".format(mean_dice, mean_loss))\n",
    "\n",
    "\treturn mean_dice, mean_loss\n",
    "\n",
    "def model_training(model, train_loader, val_loader, trainFun, evalFun, n_epochs, name=\"model\"):\n",
    "\toptimizer = torch.optim.Adam(model.parameters(), lr=1e-3)\n",
    "\tscheduler = StepLR(optimizer, step_size = 100, gamma = 0.2)\n",
    "\n",
    "\tformer_best_dice = 0 # Worst possible\n",
    "\tformer_best_loss = 1 # Worst possible\n",
    "\tearly_stopping_streak = 0\n",
    "\n",
    "\tscheduled_saves = 0\n",
    "\tbest_modem = model\n",
    "\n",
    "\tfor epoch in range(n_epochs):\n",
    "\t\tprint(' --- training: epoch {}'.format(epoch+1))\n",
    "\n",
    "\t\t# Train the model\n",
    "\t\ttrain_dice, train_loss = trainFun(model, optimizer, train_loader)\n",
    "\n",
    "\t\t# Modulate training rate\n",
    "\t\tscheduler.step()\n",
    "\n",
    "\t\t#evaluate for one epoch on validation set\n",
    "\t\tvalid_dice, valid_loss = evalFun(model, val_loader)\n",
    "\t\t\n",
    "\t\t#if val_metric is best, add checkpoint\n",
    "\t\tif (epoch%5 == 0 or epoch==(n_epochs-1)):\n",
    "\t\t\tscheduled_saves+=1\n",
    "\t\t\n",
    "\n",
    "\t\tif former_best_loss > valid_loss:\n",
    "\t\t\t# Loss is decreasing\n",
    "\t\t\tearly_stopping_streak = 0\n",
    "\t\t\tif former_best_dice < valid_dice:\n",
    "\t\t\t\t# Dice is increasing\n",
    "\t\t\t\tbest_modem = copy.deepcopy(model)\n",
    "\t\t\t\tif scheduled_saves > 0:\n",
    "\t\t\t\t\tscheduled_saves -= 1\n",
    "\t\t\t\t\tsave_model(model, model_save_path+name+\"_dice_{:.3f}_loss_{:.3f}_epoch_{}.pth\".format(valid_dice, valid_loss, epoch+1))\n",
    "\t\telse:\n",
    "\t\t\t# Is decresing\n",
    "\t\t\tearly_stopping_streak += 1\n",
    "\t\t\tif early_stopping_streak >= 5:\n",
    "\t\t\t\tprint(\"Early stopping at epoch {}\".format(epoch+1))\n",
    "\t\t\t\tbreak\n",
    "\t\t\n",
    "\t\tformer_best_dice = max(former_best_dice, valid_dice)\n",
    "\t\tformer_best_loss = min(former_best_loss, valid_loss)\n",
    "\t\t\n",
    "\treturn best_modem\n"
   ]
  },
  {
   "cell_type": "code",
   "execution_count": 8,
   "metadata": {},
   "outputs": [],
   "source": [
    "# Training Function \n",
    "def train_deprecated(model, train_loader, validate_loader, trainStepFun, testStepFun, epochs=20):\n",
    "\t\n",
    "\tscheduler_params = dict(max_lr=1e-3,\n",
    "\t\t\t\t\t\t\tepochs=epochs, steps_per_epoch=len(train_loader))\n",
    "\n",
    "\toptimizer = optim.AdamW(list(model.parameters()))\n",
    "\tscheduler_global = optim.lr_scheduler.OneCycleLR(\n",
    "\t\toptimizer, **scheduler_params)  # goal: maximize Dice score\n",
    "\tgrad_scaler_global = torch.cuda.amp.GradScaler(\n",
    "\t\tenabled=amp)  # Default parameter\n",
    "\t\n",
    "\t#best_accuracy = 0.0\n",
    "\t#interval = []\n",
    "\t#interval_count = 0\n",
    "\t#validation_accuracy_progression = []\n",
    "\t#validation_loss_progression = []\n",
    "\tfor epoch in range(1, epochs+1):\n",
    "\t\t#running_train_loss = 0.0\n",
    "\t\t#running_accuracy = 0.0\n",
    "\t\t#running_vall_loss = 0.0\n",
    "\t\t#total = 0\n",
    "\t\twith tqdm(total=len(train_loader)*train_loader.batch_size, desc=f'Epoch {epoch}/{epochs}', unit='img') as pbar_train:\n",
    "\t\t\t# Training Loop\n",
    "\t\t\tit = 0\n",
    "\t\t\tepoch_loss = 0\n",
    "\t\t\tepoch_acc = 0\n",
    "\t\t\tfor i, (image, label) in enumerate(train_loader):\n",
    "\t\t\t\tprint(i)\n",
    "\n",
    "\t\t\tfor data in train_loader: \n",
    "\t\t\t\tmodel.train()\n",
    "\t\t\t\tloss, acc = trainStepFun(model, (data[\"image\"], data[\"label\"]), optimizer)\n",
    "\t\t\t\t#running_train_loss += loss #  # track the loss value\n",
    "\t\t\t\t\n",
    "\t\t\t\tit+=1#data[0].shape[0]\n",
    "\t\t\t\tepoch_loss += loss\n",
    "\t\t\t\tepoch_acc += acc\n",
    "\n",
    "\t\t\t\tpbar_train.update(data[0].shape[0])\n",
    "\t\t\t\tpbar_train.set_postfix(**{'training loss (batch)': epoch_loss/it, \"training accuracy (batch)\": epoch_acc/it})\n",
    "\t\n",
    "\t\t\t# Calculate training loss value \n",
    "\t\t\t#train_loss_value = running_train_loss/len(train_loader)\n",
    "\n",
    "\t\t\n",
    "\t\twith tqdm(total=len(validate_loader)*validate_loader.batch_size, desc=f'Epoch {epoch}/{epochs}', unit='img') as pbar_validate:\n",
    "\t\t\t# Validation Loop \n",
    "\t\t\tit = 0\n",
    "\t\t\tepoch_loss = 0\n",
    "\t\t\tepoch_acc = 0\n",
    "\t\t\twith torch.no_grad(): # Why not ?\n",
    "\t\t\t\tfor data in validate_loader:\n",
    "\t\t\t\t\tmodel.eval()\n",
    "\t\t\t\t\t## loss, acc = trainStepFun(model, data)\n",
    "\t\t\t\t\tloss, acc = testStepFun(model, data)\n",
    "\n",
    "\t\t\t\t\t# The label with the highest value will be our prediction \n",
    "\t\t\t\t\t#running_vall_loss += loss\n",
    "\t\t\t\t\t#total += 1\n",
    "\t\t\t\t\t#running_accuracy += acc\n",
    "\t\t\t\t\tit+=1#data[0].shape[0]\n",
    "\t\t\t\t\tepoch_loss += loss\n",
    "\t\t\t\t\tepoch_acc += acc\n",
    "\n",
    "\t\t\t\t\tpbar_validate.update(data[0].shape[0])\n",
    "\t\t\t\t\tpbar_validate.set_postfix(**{'validation loss (batch)': epoch_loss/it, \"validation accuracy (batch)\": epoch_acc/it})\n",
    "\t\t\t\t\t\t\t\t\t\t\t\t\n",
    "\t\t\t\t\t#validation_accuracy_progression.append(acc)\n",
    "\t\t\t\t\t#validation_loss_progression.append(loss)\n",
    "\t\t\t\t\t#interval_count += 1\n",
    "\t\t\t\t\t#interval.append(interval_count)\n",
    "\t\n",
    "\t\t# Calculate validation loss value \n",
    "\t\t#val_loss_value = running_vall_loss/len(validate_loader) \n",
    "\t\t\t\t\n",
    "\t\t# Calculate accuracy as the number of correct predictions in the validation batch divided by the total number of predictions done.  \n",
    "\t\t#accuracy = (100.0 * running_accuracy / total)\t \n",
    " \n",
    "\t\t# Save the model if the accuracy is the best \n",
    "\t\t#if accuracy > best_accuracy:\n",
    "\t\t#\ttorch.save(model.state_dict(), save_folder +\n",
    "\t\t#\t\t\t   \"/newtork_weigths/model_epoch{:}_validation_accuracy{:.3f}_train_loss{:.3f}.pth\".format(epoch, accuracy, train_loss_value))\n",
    "\t\t#\tbest_accuracy = accuracy\n",
    "\t\t \n",
    "\t\t# Print the statistics of the epoch \n",
    "\t\t#print('Completed training batch', epoch, 'Training Loss is: %.4f' %train_loss_value,\n",
    "\t\t#\t   'Validation Loss is: %.4f' %val_loss_value, 'Accuracy is %d %%' % (accuracy))\n",
    "\t\t\"\"\"\n",
    "\t\tvalidation_accuracy_smooth = smooth(validation_accuracy_progression, 0.99)\n",
    "\t\tvalidation_loss_smooth = smooth(validation_loss_progression, 0.99)\n",
    "\n",
    "\t\tplt.figure(1)\n",
    "\t\tplt.clf()\n",
    "\t\tplt.plot(interval, validation_accuracy_smooth,\n",
    "\t\t\t\t 'g-', label='Global accuracy')\n",
    "\t\tplt.xlabel(\"Iterations\")\n",
    "\t\tplt.ylabel(\"Accuracy Value\")\n",
    "\t\tplt.title(\"Accuracy Monitoring among validation\")\n",
    "\t\tplt.legend()\n",
    "\t\tplt.savefig(save_folder+\"/training_monitoring/accuracy_\" +\n",
    "\t\t\t\t\tstr(epoch)+\"_epoch.png\")\n",
    "\t\t\n",
    "\t\tif (epoch == epochs):\n",
    "\t\t\tplt.show()\n",
    "\n",
    "\t\tplt.figure(1)\n",
    "\t\tplt.clf()\n",
    "\t\tplt.plot(interval, validation_loss_smooth,\n",
    "\t\t\t\t 'r-', label='Global loss')\n",
    "\t\tplt.xlabel(\"Iterations\")\n",
    "\t\tplt.ylabel(\"Loss Value\")\n",
    "\t\tplt.title(\"Loss Monitoring among validation\")\n",
    "\t\tplt.legend()\n",
    "\t\tplt.savefig(save_folder+\"/training_monitoring/loss_\" +\n",
    "\t\t\t\t\tstr(epoch)+\"_epoch.png\")\n",
    "\t\t\n",
    "\t\tif (epoch == epochs):\n",
    "\t\t\tplt.show()\n",
    "\t\t\"\"\"\n",
    "\n",
    "\t# Return the fully trained model\n",
    "\treturn model\n",
    "\n",
    "\n"
   ]
  },
  {
   "cell_type": "code",
   "execution_count": 9,
   "metadata": {},
   "outputs": [],
   "source": [
    "# Function to test the model\n",
    "def test(model, test_loader, testStepFun):\n",
    "\titer = 0\n",
    "\tepoch_loss = 0\n",
    "\tepoch_acc = 0\n",
    "\twith tqdm(total=len(test_loader)*test_loader.batch_size, desc=f'Testing', unit='img') as pbar_test:\n",
    "\t\twith torch.no_grad():\n",
    "\t\t\tfor data in test_loader:\n",
    "\t\t\t\tloss, acc = testStepFun(model, data)\n",
    "\n",
    "\t\t\t\titer += 1\n",
    "\t\t\t\tepoch_loss += loss\n",
    "\t\t\t\tepoch_acc += acc\n",
    "\t\t\t\t\n",
    "\n",
    "\t\t\t\tpbar_test.update(data[0].shape[0])\n",
    "\t\t\t\tpbar_test.set_postfix(**{'test loss': epoch_loss/iter, \"test accuracy\": epoch_acc/iter})\n",
    "\treturn epoch_loss/iter , epoch_acc/iter"
   ]
  },
  {
   "cell_type": "code",
   "execution_count": 10,
   "metadata": {},
   "outputs": [],
   "source": [
    "n_epochs = 50\n",
    "n_models = 10"
   ]
  },
  {
   "cell_type": "code",
   "execution_count": 11,
   "metadata": {},
   "outputs": [
    {
     "name": "stdout",
     "output_type": "stream",
     "text": [
      " --- training: epoch 1\n"
     ]
    },
    {
     "name": "stderr",
     "output_type": "stream",
     "text": [
      "Training: 100%|██████████| 6250/6250 [01:54<00:00, 54.69img/s, dice=0.543, loss=0.415]"
     ]
    },
    {
     "name": "stdout",
     "output_type": "stream",
     "text": [
      "Average dice 0.389 and loss 0.476 over this epoch.\n"
     ]
    },
    {
     "name": "stderr",
     "output_type": "stream",
     "text": [
      "\n"
     ]
    },
    {
     "name": "stdout",
     "output_type": "stream",
     "text": [
      "Eval metrics : dice 0.462 and loss 0.457.\n",
      " --- training: epoch 2\n"
     ]
    },
    {
     "name": "stderr",
     "output_type": "stream",
     "text": [
      "Training: 100%|██████████| 6250/6250 [01:53<00:00, 54.88img/s, dice=0.36, loss=0.424]  "
     ]
    },
    {
     "name": "stdout",
     "output_type": "stream",
     "text": [
      "Average dice 0.653 and loss 0.223 over this epoch.\n"
     ]
    },
    {
     "name": "stderr",
     "output_type": "stream",
     "text": [
      "\n"
     ]
    },
    {
     "name": "stdout",
     "output_type": "stream",
     "text": [
      "Eval metrics : dice 0.667 and loss 0.279.\n",
      " --- training: epoch 3\n"
     ]
    },
    {
     "name": "stderr",
     "output_type": "stream",
     "text": [
      "Training: 100%|██████████| 6250/6250 [01:53<00:00, 54.85img/s, dice=0.919, loss=0.116] "
     ]
    },
    {
     "name": "stdout",
     "output_type": "stream",
     "text": [
      "Average dice 0.757 and loss 0.141 over this epoch.\n"
     ]
    },
    {
     "name": "stderr",
     "output_type": "stream",
     "text": [
      "\n"
     ]
    },
    {
     "name": "stdout",
     "output_type": "stream",
     "text": [
      "Eval metrics : dice 0.779 and loss 0.155.\n",
      " --- training: epoch 4\n"
     ]
    },
    {
     "name": "stderr",
     "output_type": "stream",
     "text": [
      "Training: 100%|██████████| 6250/6250 [01:53<00:00, 55.17img/s, dice=0.75, loss=0.0743] "
     ]
    },
    {
     "name": "stdout",
     "output_type": "stream",
     "text": [
      "Average dice 0.794 and loss 0.119 over this epoch.\n"
     ]
    },
    {
     "name": "stderr",
     "output_type": "stream",
     "text": [
      "\n"
     ]
    },
    {
     "name": "stdout",
     "output_type": "stream",
     "text": [
      "Eval metrics : dice 0.811 and loss 0.143.\n",
      " --- training: epoch 5\n"
     ]
    },
    {
     "name": "stderr",
     "output_type": "stream",
     "text": [
      "Training: 100%|██████████| 6250/6250 [01:53<00:00, 54.99img/s, dice=0.952, loss=0.0474]"
     ]
    },
    {
     "name": "stdout",
     "output_type": "stream",
     "text": [
      "Average dice 0.814 and loss 0.098 over this epoch.\n"
     ]
    },
    {
     "name": "stderr",
     "output_type": "stream",
     "text": [
      "\n"
     ]
    },
    {
     "name": "stdout",
     "output_type": "stream",
     "text": [
      "Eval metrics : dice 0.645 and loss 0.304.\n",
      " --- training: epoch 6\n"
     ]
    },
    {
     "name": "stderr",
     "output_type": "stream",
     "text": [
      "Training: 100%|██████████| 6250/6250 [01:53<00:00, 55.08img/s, dice=0.265, loss=0.399] "
     ]
    },
    {
     "name": "stdout",
     "output_type": "stream",
     "text": [
      "Average dice 0.838 and loss 0.082 over this epoch.\n"
     ]
    },
    {
     "name": "stderr",
     "output_type": "stream",
     "text": [
      "\n"
     ]
    },
    {
     "name": "stdout",
     "output_type": "stream",
     "text": [
      "Eval metrics : dice 0.781 and loss 0.157.\n",
      " --- training: epoch 7\n"
     ]
    },
    {
     "name": "stderr",
     "output_type": "stream",
     "text": [
      "Training: 100%|██████████| 6250/6250 [01:53<00:00, 55.01img/s, dice=0.971, loss=0.036] "
     ]
    },
    {
     "name": "stdout",
     "output_type": "stream",
     "text": [
      "Average dice 0.840 and loss 0.081 over this epoch.\n"
     ]
    },
    {
     "name": "stderr",
     "output_type": "stream",
     "text": [
      "\n"
     ]
    },
    {
     "name": "stdout",
     "output_type": "stream",
     "text": [
      "Eval metrics : dice 0.848 and loss 0.103.\n",
      " --- training: epoch 8\n"
     ]
    },
    {
     "name": "stderr",
     "output_type": "stream",
     "text": [
      "Training: 100%|██████████| 6250/6250 [01:52<00:00, 55.38img/s, dice=0.944, loss=0.0666]"
     ]
    },
    {
     "name": "stdout",
     "output_type": "stream",
     "text": [
      "Average dice 0.847 and loss 0.075 over this epoch.\n"
     ]
    },
    {
     "name": "stderr",
     "output_type": "stream",
     "text": [
      "\n"
     ]
    },
    {
     "name": "stdout",
     "output_type": "stream",
     "text": [
      "Eval metrics : dice 0.831 and loss 0.151.\n",
      " --- training: epoch 9\n"
     ]
    },
    {
     "name": "stderr",
     "output_type": "stream",
     "text": [
      "Training: 100%|██████████| 6250/6250 [01:50<00:00, 56.73img/s, dice=0.962, loss=0.0491]"
     ]
    },
    {
     "name": "stdout",
     "output_type": "stream",
     "text": [
      "Average dice 0.859 and loss 0.070 over this epoch.\n"
     ]
    },
    {
     "name": "stderr",
     "output_type": "stream",
     "text": [
      "\n"
     ]
    },
    {
     "name": "stdout",
     "output_type": "stream",
     "text": [
      "Eval metrics : dice 0.835 and loss 0.137.\n",
      " --- training: epoch 10\n"
     ]
    },
    {
     "name": "stderr",
     "output_type": "stream",
     "text": [
      "Training: 100%|██████████| 6250/6250 [01:53<00:00, 54.99img/s, dice=0.814, loss=0.0858]"
     ]
    },
    {
     "name": "stdout",
     "output_type": "stream",
     "text": [
      "Average dice 0.858 and loss 0.073 over this epoch.\n"
     ]
    },
    {
     "name": "stderr",
     "output_type": "stream",
     "text": [
      "\n"
     ]
    },
    {
     "name": "stdout",
     "output_type": "stream",
     "text": [
      "Eval metrics : dice 0.840 and loss 0.112.\n",
      " --- training: epoch 11\n"
     ]
    },
    {
     "name": "stderr",
     "output_type": "stream",
     "text": [
      "Training: 100%|██████████| 6250/6250 [01:53<00:00, 55.15img/s, dice=0.957, loss=0.0477]"
     ]
    },
    {
     "name": "stdout",
     "output_type": "stream",
     "text": [
      "Average dice 0.873 and loss 0.061 over this epoch.\n"
     ]
    },
    {
     "name": "stderr",
     "output_type": "stream",
     "text": [
      "\n"
     ]
    },
    {
     "name": "stdout",
     "output_type": "stream",
     "text": [
      "Eval metrics : dice 0.833 and loss 0.104.\n",
      " --- training: epoch 12\n"
     ]
    },
    {
     "name": "stderr",
     "output_type": "stream",
     "text": [
      "Training: 100%|██████████| 6250/6250 [01:53<00:00, 54.96img/s, dice=0.867, loss=0.0397]"
     ]
    },
    {
     "name": "stdout",
     "output_type": "stream",
     "text": [
      "Average dice 0.877 and loss 0.054 over this epoch.\n"
     ]
    },
    {
     "name": "stderr",
     "output_type": "stream",
     "text": [
      "\n"
     ]
    },
    {
     "name": "stdout",
     "output_type": "stream",
     "text": [
      "Eval metrics : dice 0.850 and loss 0.095.\n",
      " --- training: epoch 13\n"
     ]
    },
    {
     "name": "stderr",
     "output_type": "stream",
     "text": [
      "Training: 100%|██████████| 6250/6250 [01:52<00:00, 55.34img/s, dice=0.961, loss=0.0379] "
     ]
    },
    {
     "name": "stdout",
     "output_type": "stream",
     "text": [
      "Average dice 0.878 and loss 0.056 over this epoch.\n"
     ]
    },
    {
     "name": "stderr",
     "output_type": "stream",
     "text": [
      "\n"
     ]
    },
    {
     "name": "stdout",
     "output_type": "stream",
     "text": [
      "Eval metrics : dice 0.828 and loss 0.125.\n",
      " --- training: epoch 14\n"
     ]
    },
    {
     "name": "stderr",
     "output_type": "stream",
     "text": [
      "Training: 100%|██████████| 6250/6250 [01:53<00:00, 55.04img/s, dice=0.95, loss=0.0432] "
     ]
    },
    {
     "name": "stdout",
     "output_type": "stream",
     "text": [
      "Average dice 0.878 and loss 0.057 over this epoch.\n"
     ]
    },
    {
     "name": "stderr",
     "output_type": "stream",
     "text": [
      "\n"
     ]
    },
    {
     "name": "stdout",
     "output_type": "stream",
     "text": [
      "Eval metrics : dice 0.864 and loss 0.103.\n",
      " --- training: epoch 15\n"
     ]
    },
    {
     "name": "stderr",
     "output_type": "stream",
     "text": [
      "Training: 100%|██████████| 6250/6250 [01:52<00:00, 55.44img/s, dice=0.974, loss=0.0475]"
     ]
    },
    {
     "name": "stdout",
     "output_type": "stream",
     "text": [
      "Average dice 0.881 and loss 0.054 over this epoch.\n"
     ]
    },
    {
     "name": "stderr",
     "output_type": "stream",
     "text": [
      "\n"
     ]
    },
    {
     "name": "stdout",
     "output_type": "stream",
     "text": [
      "Eval metrics : dice 0.777 and loss 0.222.\n",
      " --- training: epoch 16\n"
     ]
    },
    {
     "name": "stderr",
     "output_type": "stream",
     "text": [
      "Training:  44%|████▍     | 2770/6250 [00:50<01:02, 56.07img/s, dice=0.686, loss=0.053] "
     ]
    }
   ],
   "source": [
    "g_teacher_model = load_model(UNet_modular(channel_depth=32, n_channels=3, n_classes=1))\n",
    "model_descr = \"_model_parameters_{}\".format(get_trainable_param(g_teacher_model))\n",
    "g_teacher_model = model_training(g_teacher_model, train_dataloader, validation_dataloader, train, evaluate, 150, \"teacher\"+model_descr)\n",
    "save_model(g_teacher_model, model_save_path+\"best_teacher\"+model_descr)\n",
    "\n",
    "for i in range(1, n_models+1):\n",
    "    model = load_model(UNet_modular(channel_depth=2*i, n_channels=3, n_classes=1))\n",
    "    model_descr = \"_model_{}_parameters_{}\".format(i, get_trainable_param(model))\n",
    "    nd_model = model_training(g_teacher_model, train_dataloader, validation_dataloader, train, evaluate, n_epochs, \"not_distilled\"+model_descr)\n",
    "    save_model(nd_model, model_save_path+\"best_not_distilled\"+model_descr)\n",
    "    \n",
    "    d_model = model_training(g_teacher_model, train_dataloader, validation_dataloader, train_distilled, evaluate, n_epochs, \"distilled_model\"+model_descr)\n",
    "    save_model(d_model, model_save_path+\"best_distilled_model\"+model_descr)"
   ]
  },
  {
   "cell_type": "code",
   "execution_count": null,
   "metadata": {},
   "outputs": [
    {
     "name": "stdout",
     "output_type": "stream",
     "text": [
      "a\n",
      "b\n"
     ]
    }
   ],
   "source": [
    "models_1 = []\n",
    "\n",
    "models_2 = []\n",
    "\n",
    "\n",
    "for i in range(30, n_models):\n",
    "\t  l1_size = int(1+i*1)\n",
    "\t  # Train models without distillation\n",
    "\t  model = train(load_model(GenericNetwork(l1_size)), train_dataloader, validation_dataloader, trainStep, testStep, n_epochs)\n",
    "\t  models_1.append(model)\n",
    "\t  save_model(model, save_path+\"/newtork_weigths/no_distillation_first_layer_size_{:}.pth\".format(l1_size))\n",
    "\n",
    "\t  model = train(load_model(GenericNetwork(l1_size)), train_dataloader, validation_dataloader, studentTrainStepDistillationMNIST, testStep, n_epochs)\n",
    "\t  models_2.append(model)\n",
    "\t  save_model(model, save_path+\"/newtork_weigths/distillation_first_layer_size_{:}.pth\".format(l1_size))\n"
   ]
  },
  {
   "attachments": {},
   "cell_type": "markdown",
   "metadata": {},
   "source": [
    "# Testing"
   ]
  },
  {
   "attachments": {},
   "cell_type": "markdown",
   "metadata": {},
   "source": [
    "## Load multiple training sets"
   ]
  },
  {
   "cell_type": "code",
   "execution_count": null,
   "metadata": {},
   "outputs": [],
   "source": [
    "n_training = 20\n",
    "\n",
    "split = int(len(data)/n_training)\n",
    "test_data_array = random_split(data, [split for i in range(n_training)])\n",
    "\n",
    "print(\"Number of splits : \",len(test_data_array))\n",
    "if len(test_data_array) > 0:\n",
    "\tprint(\"Split size : \", len(test_data_array[0]))\n"
   ]
  },
  {
   "attachments": {},
   "cell_type": "markdown",
   "metadata": {},
   "source": [
    "## Load models for testing"
   ]
  },
  {
   "cell_type": "code",
   "execution_count": null,
   "metadata": {},
   "outputs": [],
   "source": [
    "not_distilled_model_paths = get_path_list(save_path+\"/newtork_weigths\", \"no_distillation\")\n",
    "not_distilled_size = get_last_number_in_name(not_distilled_model_paths)\n",
    "\n",
    "# Code to order model_paths and param by param in ascending order\n",
    "not_distilled_model_paths = [x for _,x in sorted(zip(not_distilled_size,not_distilled_model_paths))]\n",
    "not_distilled_size = sorted(not_distilled_size)\n",
    "\n",
    "# Load the not distilled models in a list, initiating the GenericNetwork model with the correct size\n",
    "not_distilled_models = []\n",
    "for i in range(len(not_distilled_model_paths)):\n",
    "\tnot_distilled_models.append(load_model(GenericNetwork(not_distilled_size[i]), not_distilled_model_paths[i]))\n",
    "\n",
    "distilled_model_paths = get_path_list(save_path+\"/newtork_weigths\", \"distillation\")\n",
    "distilled_size = get_last_number_in_name(distilled_model_paths)\n",
    "\n",
    "# Code to order model_paths and param by param in ascending order\n",
    "distilled_model_paths = [x for _,x in sorted(zip(distilled_size,distilled_model_paths))]\n",
    "distilled_size = sorted(distilled_size)\n",
    "\n",
    "# Load the distilled models in a list, initiating the GenericNetwork model with the correct size\n",
    "distilled_models = []\n",
    "for i in range(len(distilled_model_paths)):\n",
    "\tdistilled_models.append(load_model(GenericNetwork(distilled_size[i]), distilled_model_paths[i]))\n"
   ]
  },
  {
   "cell_type": "code",
   "execution_count": null,
   "metadata": {},
   "outputs": [],
   "source": [
    "not_distilled_loss = []\n",
    "not_distilled_accuracy = []\n",
    "not_distilled_param = []\n",
    "\n",
    "print(\"Testing models without distillation\")\n",
    "for i in range(0, len(not_distilled_models)):\n",
    "\tmodel = not_distilled_models[i]\n",
    "\tnot_distilled_param.append(get_trainable_param(model))\n",
    "\n",
    "\tmean_loss = 0\n",
    "\tmean_acc = 0\n",
    "\tfor data in test_data_array:\n",
    "\t\ttest_dataloader = torch.utils.data.DataLoader(data,\n",
    "\t\t\t\t\t\t\t\t\t\t\t   batch_size=batch_size,\n",
    "\t\t\t\t\t\t\t\t\t\t\t   shuffle=True,\n",
    "\t\t\t\t\t\t\t\t\t\t\t   num_workers=workers)\n",
    "\t\tloss, acc = test(model, test_dataloader, testStep)\n",
    "\t\tmean_loss += loss\n",
    "\t\tmean_acc += acc\n",
    "\t\n",
    "\tmean_loss /= len(test_data_array)\n",
    "\tmean_acc /= len(test_data_array)\n",
    "\n",
    "\tnot_distilled_loss.append(mean_loss)\n",
    "\tnot_distilled_accuracy.append(mean_acc)\n",
    "\n",
    "\n",
    "\n",
    "distilled_loss = []\n",
    "distilled_accuracy = []\n",
    "distilled_param = []\n",
    "\n",
    "print(\"Testing models with distillation\")\n",
    "for i in range(0, len(distilled_models)):\n",
    "\tmodel = distilled_models[i]\n",
    "\tdistilled_param.append(get_trainable_param(model))\n",
    "\tmean_loss = 0\n",
    "\tmean_acc = 0\n",
    "\tfor data in test_data_array:\n",
    "\t\ttest_dataloader = torch.utils.data.DataLoader(data,\n",
    "\t\t\t\t\t\t\t\t\t\t\t   batch_size=batch_size,\n",
    "\t\t\t\t\t\t\t\t\t\t\t   shuffle=True,\n",
    "\t\t\t\t\t\t\t\t\t\t\t   num_workers=workers)\n",
    "\t\t\n",
    "\t\tloss, acc = test(model, test_dataloader, testStep)\n",
    "\t\tmean_loss += loss\n",
    "\t\tmean_acc += acc\n",
    "\t\n",
    "\tmean_loss /= len(test_data_array)\n",
    "\tmean_acc /= len(test_data_array)\n",
    "\n",
    "\tdistilled_loss.append(mean_loss)\n",
    "\tdistilled_accuracy.append(mean_acc)\n"
   ]
  },
  {
   "attachments": {},
   "cell_type": "markdown",
   "metadata": {},
   "source": [
    "# Plot data"
   ]
  },
  {
   "cell_type": "code",
   "execution_count": null,
   "metadata": {},
   "outputs": [],
   "source": [
    "# PLOT ACCURACY\n",
    "\n",
    "# Plot accuracy in respect to the number of parameters\n",
    "plt.figure(1)\n",
    "plt.clf()\n",
    "plt.plot(not_distilled_param, not_distilled_accuracy,\n",
    "\t\t\t'g-', label='No distillation')\n",
    "plt.plot(distilled_param, distilled_accuracy,\n",
    "\t\t\t'r-', label='Distillation')\n",
    "plt.xlabel(\"Number of parameters\")\n",
    "plt.ylabel(\"Accuracy Value\")\n",
    "plt.title(\"Accuracy Monitoring among models\")\n",
    "plt.legend()\n",
    "plt.savefig(save_path+\"/training_monitoring/accuracy_param.png\")\n",
    "plt.show()\n",
    "\n",
    "\n",
    "\n",
    "# Plot the gain in accuracy in respect to the number of parameters for the distilled models\n",
    "plt.figure(1)\n",
    "plt.clf()\n",
    "plt.plot(distilled_param, np.array(distilled_accuracy)-np.array(not_distilled_accuracy),\n",
    "\t\t\t'r-', label='Gain')\n",
    "plt.xlabel(\"Number of parameters\")\n",
    "plt.ylabel(\"Accuracy Value\")\n",
    "plt.title(\"Accuracy Gain Monitoring among models\")\n",
    "plt.legend()\n",
    "plt.savefig(save_path+\"/training_monitoring/accuracy_gain_param.png\")\n",
    "plt.show()\n",
    "\n",
    "\n",
    "\n",
    "# PLOT LOSS\n",
    "\n",
    "# Plot loss in respect to the number of parameters\n",
    "plt.figure(1)\n",
    "plt.clf()\n",
    "plt.plot(not_distilled_param, not_distilled_loss,\n",
    "\t\t\t'g-', label='No distillation')\n",
    "plt.plot(distilled_param, distilled_loss,\n",
    "\t\t\t'r-', label='Distillation')\n",
    "plt.xlabel(\"Number of parameters\")\n",
    "plt.ylabel(\"Loss Value\")\n",
    "plt.title(\"Loss Monitoring among models\")\n",
    "plt.legend()\n",
    "plt.savefig(save_path+\"/training_monitoring/loss_param.png\")\n",
    "plt.show()\n",
    "\n",
    "\n",
    "# Plot the gain in loss in respect to the number of parameters for the distilled models\n",
    "plt.figure(1)\n",
    "plt.clf()\n",
    "plt.plot(distilled_param, np.array(not_distilled_loss)-np.array(distilled_loss),\n",
    "\t\t\t'r-', label='Gain')\n",
    "plt.xlabel(\"Number of parameters\")\n",
    "plt.ylabel(\"Loss Value\")\n",
    "plt.title(\"Loss Gain Monitoring among models\")\n",
    "plt.legend()\n",
    "plt.savefig(save_path+\"/training_monitoring/loss_gain_param.png\")\n",
    "plt.show()\n",
    "\n",
    "log_file = open(save_path+\"/training_monitoring/raw_data\"+session_name+\".txt\", \"w\")\n",
    "log_file.write(\"Not distilled data\\n\")\n",
    "log_file.write(\"number of param : \" + str(not_distilled_param) + \"\\n\")\n",
    "log_file.write(\"accuracy : \" + str(not_distilled_accuracy) + \"\\n\")\n",
    "log_file.write(\"loss : \" + str(not_distilled_loss) + \"\\n\")\n",
    "\n",
    "\n",
    "log_file.write(\"Distilled data\\n\")\n",
    "log_file.write(\"number of param : \" + str(distilled_param) + \"\\n\")\n",
    "log_file.write(\"accuracy : \" + str(distilled_accuracy) + \"\\n\")\n",
    "log_file.write(\"loss : \" + str(distilled_loss) + \"\\n\")\n",
    "\n",
    "\n",
    "log_file.close()\n"
   ]
  },
  {
   "cell_type": "code",
   "execution_count": null,
   "metadata": {},
   "outputs": [],
   "source": [
    "print(not_distilled_param)\n",
    "print(not_distilled_accuracy)\n",
    "print(not_distilled_loss)\n",
    "\n",
    "print(distilled_param)\n",
    "print(distilled_accuracy)\n",
    "print(distilled_loss)"
   ]
  },
  {
   "cell_type": "code",
   "execution_count": null,
   "metadata": {},
   "outputs": [],
   "source": [
    "\"\"\"global_step =  0\n",
    "n_train = len(filtered_train_data)\n",
    "print(n_train)\n",
    "\n",
    "T = 1.0 # temperature for distillation loss\n",
    "# Using a higher value for T produces a softer probability distribution over classes\n",
    "alpha = 1.0\n",
    "# trade-off between soft-target (st) cross-entropy and true-target (tt) cross-entropy;\n",
    "# loss = alpha * st + (1 - alpha) * tt\n",
    "\n",
    "print(\"Starting Training Loop...\")\n",
    "\n",
    "\n",
    "source_dice = []\n",
    "intervalle = []\n",
    "\n",
    "L_seg_list = []\n",
    "\n",
    "loss_list = []\n",
    "acc_list = []\n",
    "\n",
    "L_s_list = []\n",
    "\n",
    "compteur_plot = 0\n",
    "\n",
    "for epoch in range(num_epochs):\n",
    "\tepoch_loss = 0\n",
    "\tepoch_acc = 0\n",
    "\tcpt_it = 0\n",
    "\twith tqdm(total=n_train, desc=f'Epoch {epoch + 1}/{num_epochs}', unit='img') as pbar:\n",
    "\n",
    "\t\tfor i, data in enumerate(filtered_train_dataloader, 0):\n",
    "\t\t\tstudent_model.train()\n",
    "\t\t\tteacher_model.eval()\n",
    "\n",
    "\t\t\tcpt_it += 1\n",
    "\n",
    "\t\t\tX, y = data\n",
    "\n",
    "\t\t\tX = X.to(\n",
    "\t\t\t\tdevice=device, dtype=torch.float32)\n",
    "\t\t\ty = y.to(\n",
    "\t\t\t\tdevice=device, dtype=torch.long)\n",
    "\n",
    "\t\t\t# Pass Data Trought net before optimizing everything\n",
    "\n",
    "\t\t\tloss, acc = studentTrainStep(teacher_model, student_model, studentLoss, optimizer_global, X, y, T, alpha)\n",
    "\t\t\t\n",
    "\n",
    "\t\t\tL_global = loss\n",
    "\n",
    "\t\t\t###########################################################\n",
    "\t\t\t# Evaluation on the Training Set\n",
    "\t\t\t###########################################################\n",
    "\n",
    "\t\t\tstudent_model.eval()\n",
    "\n",
    "\t\t\tintervalle.append(compteur_plot)\n",
    "\t\t\tcompteur_plot += 1\n",
    "\n",
    "\t\t\tglobal_step += 1\n",
    "\t\t\tepoch_loss += loss.item()\n",
    "\t\t\tepoch_acc += acc\n",
    "\n",
    "\t\t\tpbar.update(X.shape[0])\n",
    "\t\t\tpbar.set_postfix(\n",
    "\t\t\t\t**{'loss (batch)': epoch_loss/cpt_it, \"accuracy (batch)\": epoch_acc/cpt_it})\n",
    "\t\t\t# pbar.set_postfix(**{'dice target': dice_target})\n",
    "\n",
    "\t\t\tloss_list.append(loss.item())\n",
    "\t\t\tacc_list.append(acc)\n",
    "# print(\"whole epoch target dice mean :\", sum(dice_score_target)/cpt_it)\n",
    "\t\tif (epoch % batch_save_interval == 0):  # and epoch != 0 :\n",
    "\n",
    "\t\t\tloss_smooth = smooth(loss_list, 0.99)\n",
    "\t\t\tacc_smooth = smooth(acc_list, 0.99)\n",
    "\n",
    "\t\t\ttorch.save(student_model.state_dict(), saving_folder +\n",
    "\t\t\t\t\t   \"/newtork_weigths/net_epoch{:}_acc{:.3f}_loss{:.3f}.pth\".format(epoch, epoch_acc/cpt_it, epoch_loss/cpt_it))\n",
    "\n",
    "\t\t\tplt.figure(1)\n",
    "\t\t\tplt.clf()\n",
    "\t\t\tplt.plot(intervalle, acc_smooth, 'r-', label='Global accuracy')\n",
    "\t\t\tplt.xlabel(\"iterations\")\n",
    "\t\t\tplt.ylabel(\"Accuracy Value\")\n",
    "\t\t\tplt.title(\"Accuracy Monitoring among training\")\n",
    "\t\t\tplt.legend()\n",
    "\t\t\tplt.savefig(saving_folder+\"/training_monitoring/acc_\" +\n",
    "\t\t\t\t\t\tstr(epoch)+\"_epoch.png\")\n",
    "\t\t\tplt.show()\n",
    "\n",
    "\t\t\tplt.figure(1)\n",
    "\t\t\tplt.clf()\n",
    "\t\t\tplt.plot(intervalle, loss_smooth, 'r-', label='Global loss')\n",
    "\t\t\tplt.xlabel(\"iterations\")\n",
    "\t\t\tplt.ylabel(\"Loss Value\")\n",
    "\t\t\tplt.title(\"Loss Monitoring among training\")\n",
    "\t\t\tplt.legend()\n",
    "\t\t\tplt.savefig(saving_folder+\"/training_monitoring/loss_\" +\n",
    "\t\t\t\t\t\tstr(epoch)+\"_epoch.png\")\n",
    "\t\t\tplt.show()\"\"\"\n"
   ]
  }
 ],
 "metadata": {
  "kernelspec": {
   "display_name": "env",
   "language": "python",
   "name": "python3"
  },
  "language_info": {
   "codemirror_mode": {
    "name": "ipython",
    "version": 3
   },
   "file_extension": ".py",
   "mimetype": "text/x-python",
   "name": "python",
   "nbconvert_exporter": "python",
   "pygments_lexer": "ipython3",
   "version": "3.6.9"
  },
  "orig_nbformat": 4,
  "vscode": {
   "interpreter": {
    "hash": "fb5e5b18ee203a6716e147d61d87e90492f0bff6defd22583400cdaccb6acdb3"
   }
  }
 },
 "nbformat": 4,
 "nbformat_minor": 2
}
