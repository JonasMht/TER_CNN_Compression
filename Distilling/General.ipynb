{
 "cells": [
  {
   "cell_type": "code",
   "execution_count": 16,
   "metadata": {},
   "outputs": [
    {
     "name": "stdout",
     "output_type": "stream",
     "text": [
      "Random Seed:  999\n"
     ]
    },
    {
     "data": {
      "text/plain": [
       "<torch._C.Generator at 0x7f8a95b22fc0>"
      ]
     },
     "execution_count": 16,
     "metadata": {},
     "output_type": "execute_result"
    }
   ],
   "source": [
    "from __future__ import print_function\n",
    "# %matplotlib inline\n",
    "import argparse\n",
    "import os\n",
    "import os.path as osp\n",
    "import random\n",
    "import torch\n",
    "import torch.nn as nn\n",
    "import torch.nn.functional as F\n",
    "import torch.nn.parallel\n",
    "import torch.backends.cudnn as cudnn\n",
    "import torch.optim as optim\n",
    "import torch.utils.data as data\n",
    "import torchvision.datasets as dset\n",
    "import torchvision.transforms as transforms\n",
    "import torchvision.utils as vutils\n",
    "import numpy as np\n",
    "import matplotlib.pyplot as plt\n",
    "import matplotlib.animation as animation\n",
    "from IPython.display import HTML\n",
    "from PIL import Image\n",
    "from tqdm import tqdm\n",
    "from torch import Tensor\n",
    "import pickle\n",
    "from datetime import datetime\n",
    "\n",
    "from torchvision import datasets, transforms\n",
    "from torch.utils.data import random_split\n",
    "\n",
    "from torchsummary import summary\n",
    "\n",
    "\n",
    "import utils\n",
    "from utils.dataset import SegmentationDataSet\n",
    "from utils.printer import source_printer\n",
    "from utils.printer import target_printer\n",
    "from utils.model import GenericNetwork\n",
    "from utils.model import TeacherNetwork\n",
    "from utils.model import StudentNetworkSmall\n",
    "from utils.model import UNet\n",
    "from utils.model import YNet\n",
    "from utils.model import Recons_net\n",
    "from utils.model import ClassifNet\n",
    "from utils.utils import getLossAccuracyOnDataset\n",
    "from utils.utils import preprocessing\n",
    "from utils.utils import IoU\n",
    "from utils.utils import postprocessing\n",
    "from utils.utils import dice_coeff\n",
    "from utils.utils import multiclass_dice_coeff\n",
    "from utils.utils import dice_loss\n",
    "from utils.utils import smooth\n",
    "\n",
    "\n",
    "# Set random seed for reproducibility\n",
    "manualSeed = 999\n",
    "# manualSeed = random.randint(1, 10000) # use if you want new results\n",
    "print(\"Random Seed: \", manualSeed)\n",
    "random.seed(manualSeed)\n",
    "torch.manual_seed(manualSeed)\n"
   ]
  },
  {
   "cell_type": "code",
   "execution_count": 17,
   "metadata": {},
   "outputs": [],
   "source": [
    "def img_show(img, cmap=\"gray\", title=\"\"):\n",
    "    # cv.namedWindow(title, cv.WINDOW_NORMAL)\n",
    "    # cv.imshow(title, img)\n",
    "    print(title)\n",
    "    plt.imshow(img, cmap)\n",
    "    # display that image\n",
    "    plt.show()\n",
    "\n",
    "\n",
    "def tensor_to_image(tensor):\n",
    "    transform = transforms.ToPILImage()\n",
    "    return transform(tensor)\n",
    "\n",
    "\n",
    "def image_to_tensor(image):\n",
    "    transform_1 = transforms.ToPILImage()\n",
    "    transform_2 = transforms.ToTensor()\n",
    "    img_tensor = transform_2(transform_1(image))\n",
    "    return img_tensor\n"
   ]
  },
  {
   "cell_type": "code",
   "execution_count": 33,
   "metadata": {},
   "outputs": [],
   "source": [
    "def load_model(model, path=\"\"):\n",
    "    if len(path)>0:\n",
    "        state_dict = torch.load(path)\n",
    "        model.load_state_dict(state_dict)\n",
    "    model.to(device=device)\n",
    "\n",
    "    if (device.type == 'cuda') and (ngpu > 1):\n",
    "        print(\"Data Parallel\")\n",
    "        model = nn.DataParallel(model, list(range(ngpu)))\n",
    "    \n",
    "    return model\n",
    "\n",
    "\n",
    "def load_student_model():\n",
    "    # STUDENT\n",
    "    return load_model(StudentNetworkSmall())\n",
    "\n",
    "\n",
    "def load_teacher_model():\n",
    "    # TEACHER\n",
    "    return load_model(TeacherNetwork())\n",
    "\n",
    "# Other\n",
    "\n",
    "def save_model(model, path):\n",
    "    torch.save(model.state_dict(), path)\n",
    "\n",
    "# Function that returns a list of paths in a folder that start with a word\n",
    "def get_path_list(path, start_with=\"\"):\n",
    "    path_list = [osp.join(path, f) for f in os.listdir(path) if f.startswith(start_with)]\n",
    "    return path_list\n",
    "\n",
    "# Function that returns the names in a path list with the last number in the name\n",
    "def get_last_number_in_name(path_list):\n",
    "    last_number = [int(f.split(\"_\")[-1].split(\".\")[0]) for f in path_list]\n",
    "    return last_number\n",
    "\n"
   ]
  },
  {
   "cell_type": "code",
   "execution_count": 19,
   "metadata": {},
   "outputs": [],
   "source": [
    "date = str(datetime.now()).split(' ')[0]\n",
    "heure = str(datetime.now()).split(' ')[1].split('.')[0]\n",
    "\n",
    "# Root directory for dataset\n",
    "# Refaire nos data folder et tout pour que ce soit\n",
    "# au format demandé par le dataloader\n",
    "\n",
    "training_set_name = \"MNIST_Distillation\"+\"_\"+str(date)+\"_\"+str(heure)\n",
    "\n",
    "alternative_name = True\n",
    "if alternative_name:\n",
    "    training_set_name = \"MNIST_Distillation_2023-03-03_19:09:12\"\n",
    "\n",
    "dataset_folder = \"xxx\"\n",
    "train_list = dataset_folder+\"patches/xxx.txt\"\n",
    "test_list = dataset_folder+\"patches/xxx.txt\"\n",
    "\n",
    "\n",
    "# Number of workers for dataloader\n",
    "workers = 10\n",
    "\n",
    "# Batch size during training (low batch_size if there are memory issues)\n",
    "batch_size = 10\n",
    "\n",
    "# Spatial size of training images. All images will be resized to this\n",
    "#   size using a transformer.\n",
    "image_size_source = 256\n",
    "image_size_target = 256\n",
    "image_size_discriminator = 64\n",
    "\n",
    "# Number of channels in the training images. For color images this is 3\n",
    "nc = 3\n",
    "\n",
    "# Number of training epochs\n",
    "num_epochs = 20\n",
    "\n",
    "# Learning rate for optimizers\n",
    "learning_rate = 1e-5  # e-5\n",
    "\n",
    "# Beta1 hyperparam for Adam optimizers\n",
    "beta1 = 0.5\n",
    "\n",
    "# Number of GPUs available. Use 0 for CPU mode.\n",
    "ngpu = 1\n",
    "\n",
    "# Saves every batch_save_interval\n",
    "batch_save_interval = 2\n",
    "\n",
    "# some net variable\n",
    "amp = False\n",
    "\n",
    "save_folder =  \"../Data/Saves/\" + training_set_name\n",
    "\n",
    "if not os.path.exists(\"../Data\"):\n",
    "    os.mkdir(\"../Data\")\n",
    "if not os.path.exists(\"../Data/Saves\" ):\n",
    "    os.mkdir(\"../Data/Saves\" )\n",
    "\n",
    "# We create this folder (only if it doesn't exists) to save weights of the training at some keys epoch\n",
    "if not os.path.exists(save_folder):\n",
    "    os.mkdir(save_folder)\n",
    "    os.mkdir(save_folder+\"/loss-dice_listes\")\n",
    "    os.mkdir(save_folder+\"/newtork_weigths\")\n",
    "    os.mkdir(save_folder+\"/training_monitoring\")\n",
    "\n",
    "log_file = open(save_folder+\"/log+\"+\"_\"+date+\"_\"+heure+\".txt\", \"w\")\n",
    "\n",
    "log_file.write(\"dataset_folder :\"+dataset_folder+\"\\n\")\n",
    "log_file.write(\"batch_size=\"+str(batch_size)+\"\\n\")\n",
    "log_file.write(\"learning_rate_net=\"+str(learning_rate)+\"\\n\")\n",
    "log_file.write(\"num_epoch=\"+str(num_epochs)+\"\\n\")\n",
    "log_file.write(\"nc=\"+str(nc)+\"\\n\")\n",
    "log_file.close()\n"
   ]
  },
  {
   "cell_type": "code",
   "execution_count": 20,
   "metadata": {},
   "outputs": [
    {
     "name": "stdout",
     "output_type": "stream",
     "text": [
      "number of gpus : 4\n",
      "device ID cuda:0\n",
      "nom du GPU NVIDIA GeForce RTX 2080 Ti\n"
     ]
    }
   ],
   "source": [
    "print(\"number of gpus :\", torch.cuda.device_count())\n",
    "\n",
    "# Decide which device we want to run on\n",
    "device = torch.device(\"cuda:0\" if (\n",
    "    torch.cuda.is_available() and ngpu > 0) else \"cpu\")\n",
    "\n",
    "# On regarde l'identifiant du GPU ou CPU sur lequel on travaille\n",
    "print(\"device ID\", device)\n",
    "print(\"nom du GPU\", torch.cuda.get_device_name(device))  # On vérifie son \"nom\"\n",
    "\n",
    "torch.cuda.empty_cache()\n"
   ]
  },
  {
   "cell_type": "code",
   "execution_count": 21,
   "metadata": {},
   "outputs": [
    {
     "name": "stdout",
     "output_type": "stream",
     "text": [
      "Number of entries 60000\n",
      "Number of training entries 42000\n",
      "Number of testing entries 9000\n",
      "Number of validation entries 9000\n",
      "SUM = 60000\n",
      "0 8\n",
      "1 9\n",
      "2 1\n",
      "3 8\n",
      "4 7\n",
      "5 8\n",
      "6 1\n",
      "7 7\n",
      "8 9\n",
      "9 7\n",
      "Size after filtering:\n",
      "37611\n",
      "33767\n",
      "29577\n",
      "25437\n",
      "Sample of classes contained in filtered 7 :\n",
      "tensor([4, 1, 1, 0, 5, 8, 3, 3, 0, 3])\n",
      "Sample of classes contained in filtered 7 5 9 2: \n",
      "tensor([0, 0, 4, 1, 3, 1, 4, 4, 2, 1])\n",
      "images source :  torch.Size([10, 1, 28, 28])\n",
      "mask source : torch.Size([10])\n",
      "tensor([5, 1, 1, 9, 3, 6, 1, 1, 9, 8])\n"
     ]
    },
    {
     "data": {
      "text/plain": [
       "<matplotlib.image.AxesImage at 0x7f88704bf828>"
      ]
     },
     "execution_count": 21,
     "metadata": {},
     "output_type": "execute_result"
    },
    {
     "data": {
      "image/png": "[encoded data removed]",
      "text/plain": [
       "<Figure size 576x576 with 1 Axes>"
      ]
     },
     "metadata": {
      "needs_background": "light"
     },
     "output_type": "display_data"
    }
   ],
   "source": [
    "# For data augmentation\n",
    "\n",
    "geometric_augs = [\n",
    "    # transforms.Resize((256, 256)), # Makes it easier to process using net\n",
    "    # transforms.RandomRotation(degrees=(0, 180)),\n",
    "    transforms.RandomHorizontalFlip(),\n",
    "    transforms.RandomVerticalFlip(),\n",
    "    # transforms.RandomRotation(45),\n",
    "]\n",
    "\n",
    "color_augs = [\n",
    "    # transforms.ColorJitter(hue=0.05, saturation=0.4)\n",
    "]\n",
    "\n",
    "\n",
    "def make_tfs(augs):\n",
    "    return transforms.Compose([transforms.ToPILImage()]+augs + [transforms.ToTensor()])\n",
    "\n",
    "\n",
    "tfs = transforms.Compose(geometric_augs)\n",
    "\n",
    "\"\"\"\n",
    "# Importation des images et masques de i3\n",
    "dataset = SegmentationDataSet(root=dataset_folder,\n",
    "                              list_path=train_list,\n",
    "                              transform_img=make_tfs(\n",
    "                                  geometric_augs + color_augs),\n",
    "                              transform_label=make_tfs(geometric_augs)\n",
    "                              )\n",
    "\"\"\"\n",
    "\n",
    "torch.set_grad_enabled(True)\n",
    "\n",
    "data = dset.MNIST(\"/var/tmp/\", train=True, download=True,\n",
    "                  transform=transforms.Compose([\n",
    "                      transforms.ToTensor(),\n",
    "                      transforms.Normalize(\n",
    "                          (0.1307,), (0.3081,))\n",
    "                  ]))\n",
    "\n",
    "n_entries = len(data)\n",
    "train_split = 70/100\n",
    "validation_split = 50/100\n",
    "\n",
    "n_train = int(train_split*n_entries)\n",
    "n_test = int(((1-train_split)*(1-validation_split))*n_entries)\n",
    "n_validation = int(((1-train_split)*(validation_split))*n_entries)\n",
    "\n",
    "if (n_train + n_test + n_validation) != n_entries:\n",
    "    # Add one to the validation set\n",
    "    n_validation+=1\n",
    "\n",
    "print(\"Number of entries\", n_entries)\n",
    "print(\"Number of training entries\", n_train)\n",
    "print(\"Number of testing entries\", n_test)\n",
    "print(\"Number of validation entries\", n_validation)\n",
    "print(\"SUM =\", n_train+n_test+n_validation)\n",
    "\n",
    "train_data, test_data, validation_data = random_split(\n",
    "    data, [n_train, n_test, n_validation])\n",
    "\n",
    "\n",
    "filtered_7_indices = []\n",
    "filtered_7_5_indices = []\n",
    "filtered_7_5_9_indices = []\n",
    "filtered_7_5_9_2_indices = []\n",
    "for i in range(len(train_data)):\n",
    "    data_class = train_data[i][1]\n",
    "    if data_class != 7:\n",
    "        filtered_7_indices.append(i)\n",
    "        if data_class != 5:\n",
    "            filtered_7_5_indices.append(i)\n",
    "            if data_class != 9:\n",
    "                filtered_7_5_9_indices.append(i)\n",
    "                if data_class != 2:\n",
    "                    filtered_7_5_9_2_indices.append(i)\n",
    "\n",
    "    if i < 10:\n",
    "        print(i, train_data[i][1])\n",
    "\n",
    "\n",
    "filtered_7_train_data = torch.utils.data.Subset(train_data, filtered_7_indices)\n",
    "filtered_7_5_train_data = torch.utils.data.Subset(train_data, filtered_7_5_indices)\n",
    "filtered_7_5_9_train_data = torch.utils.data.Subset(train_data, filtered_7_5_9_indices)\n",
    "filtered_7_5_9_2_train_data = torch.utils.data.Subset(\n",
    "    train_data, filtered_7_5_9_2_indices)\n",
    "\n",
    "\n",
    "print(\"Size after filtering:\")\n",
    "print(len(filtered_7_train_data))\n",
    "print(len(filtered_7_5_train_data))\n",
    "print(len(filtered_7_5_9_train_data))\n",
    "print(len(filtered_7_5_9_2_train_data))\n",
    "\n",
    "\n",
    "# Dataloader\n",
    "filtered_7_train_dataloader = torch.utils.data.DataLoader(filtered_7_train_data,\n",
    "                                               batch_size=batch_size,\n",
    "                                               shuffle=True,\n",
    "                                               num_workers=workers)\n",
    "\n",
    "filtered_7_5_train_dataloader = torch.utils.data.DataLoader(filtered_7_5_train_data,\n",
    "                                                        batch_size=batch_size,\n",
    "                                                        shuffle=True,\n",
    "                                                        num_workers=workers)\n",
    "\n",
    "filtered_7_5_9_train_dataloader = torch.utils.data.DataLoader(filtered_7_5_9_train_data,\n",
    "                                                        batch_size=batch_size,\n",
    "                                                        shuffle=True,\n",
    "                                                        num_workers=workers)\n",
    "\n",
    "filtered_7_5_9_2_train_dataloader = torch.utils.data.DataLoader(filtered_7_5_9_train_data,\n",
    "                                                              batch_size=batch_size,\n",
    "                                                              shuffle=True,\n",
    "                                                              num_workers=workers)\n",
    "\n",
    "\n",
    "print(\"Sample of classes contained in filtered 7 :\")\n",
    "print(next(iter(filtered_7_train_dataloader))[1])\n",
    "print(\"Sample of classes contained in filtered 7 5 9 2: \")\n",
    "print(next(iter(filtered_7_5_9_2_train_dataloader))[1])\n",
    "\n",
    "\n",
    "train_dataloader = torch.utils.data.DataLoader(train_data,\n",
    "                                               batch_size=batch_size,\n",
    "                                               shuffle=True,\n",
    "                                               num_workers=workers)\n",
    "\n",
    "test_dataloader = torch.utils.data.DataLoader(test_data,\n",
    "                                              batch_size=batch_size,\n",
    "                                              shuffle=True,\n",
    "                                              num_workers=workers)\n",
    "\n",
    "validation_dataloader = torch.utils.data.DataLoader(validation_data,\n",
    "                                              batch_size=batch_size,\n",
    "                                              shuffle=True,\n",
    "                                              num_workers=workers)\n",
    "\n",
    "\n",
    "batch = next(iter(train_dataloader))\n",
    "\n",
    "# On affiche quelques exemple du batch pour vérifier qu'on a bien importé les données\n",
    "print(\"images source : \", batch[0].shape)\n",
    "print(\"mask source :\", batch[1].shape)\n",
    "\n",
    "\n",
    "print(batch[1])\n",
    "\n",
    "plt.figure(figsize=(8, 8))\n",
    "plt.axis(\"off\")\n",
    "plt.title(\"Training images source - a batch\")\n",
    "plt.imshow(np.transpose(vutils.make_grid(batch[0].to(\n",
    "    device)[:64], padding=2, normalize=True).cpu(), (1, 2, 0)))\n"
   ]
  },
  {
   "cell_type": "markdown",
   "metadata": {},
   "source": [
    "# Neural net architecture"
   ]
  },
  {
   "cell_type": "markdown",
   "metadata": {},
   "source": [
    "## Load or create neural net"
   ]
  },
  {
   "cell_type": "code",
   "execution_count": 6,
   "metadata": {},
   "outputs": [
    {
     "name": "stdout",
     "output_type": "stream",
     "text": [
      "We are running U-Net on : NVIDIA GeForce RTX 2080 Ti\n",
      "Teacher network summary\n",
      "----------------------------------------------------------------\n",
      "        Layer (type)               Output Shape         Param #\n",
      "================================================================\n",
      "            Linear-1                 [-1, 1200]         942,000\n",
      "            Linear-2                 [-1, 1200]       1,441,200\n",
      "            Linear-3                   [-1, 10]          12,010\n",
      "================================================================\n",
      "Total params: 2,395,210\n",
      "Trainable params: 2,395,210\n",
      "Non-trainable params: 0\n",
      "----------------------------------------------------------------\n",
      "Input size (MB): 0.00\n",
      "Forward/backward pass size (MB): 0.02\n",
      "Params size (MB): 9.14\n",
      "Estimated Total Size (MB): 9.16\n",
      "----------------------------------------------------------------\n",
      "Student network summary\n",
      "----------------------------------------------------------------\n",
      "        Layer (type)               Output Shape         Param #\n",
      "================================================================\n",
      "            Linear-1                   [-1, 30]          23,550\n",
      "            Linear-2                   [-1, 10]             310\n",
      "================================================================\n",
      "Total params: 23,860\n",
      "Trainable params: 23,860\n",
      "Non-trainable params: 0\n",
      "----------------------------------------------------------------\n",
      "Input size (MB): 0.00\n",
      "Forward/backward pass size (MB): 0.00\n",
      "Params size (MB): 0.09\n",
      "Estimated Total Size (MB): 0.09\n",
      "----------------------------------------------------------------\n"
     ]
    }
   ],
   "source": [
    "# On revérifie qu'on tourne bien le réseau de neuronnes sur le GPU\n",
    "print(\"We are running U-Net on :\", torch.cuda.get_device_name(device))\n",
    "\n",
    "print(\"Teacher network summary\")\n",
    "summary(load_teacher_model(), (1, 28, 28))\n",
    "\n",
    "print(\"Student network summary\")\n",
    "summary(load_student_model(), (1, 28, 28))\n"
   ]
  },
  {
   "attachments": {},
   "cell_type": "markdown",
   "metadata": {},
   "source": [
    "## Training"
   ]
  },
  {
   "cell_type": "code",
   "execution_count": 9,
   "metadata": {},
   "outputs": [],
   "source": [
    "def trainStep(model, data, optimizer):\n",
    "\t\"\"\"\n",
    "\tOne training step of the network: forward prop + backprop + update parameters\n",
    "\tReturn: (loss, accuracy) of current batch\n",
    "\t\"\"\"\n",
    "\tX, y = data\n",
    "\n",
    "\tX = X.to(\n",
    "            device=device, dtype=torch.float32)\n",
    "\ty = y.to(\n",
    "\t\tdevice=device, dtype=torch.long)\n",
    "\t\n",
    "\toptimizer.zero_grad()\n",
    "\tpred = model(X)\n",
    "\tloss = F.cross_entropy(pred, y)\n",
    "\tloss.backward()\n",
    "\toptimizer.step()\n",
    "\taccuracy = float(torch.sum(torch.argmax(\n",
    "\t\tpred, dim=1) == y).item()) / y.shape[0]\n",
    "\treturn loss, accuracy\n",
    "\n",
    "\n",
    "def testStep(model, data):\n",
    "\tX, y = data\n",
    "\n",
    "\tX = X.to(\n",
    "            device=device, dtype=torch.float32)\n",
    "\ty = y.to(\n",
    "\t\tdevice=device, dtype=torch.long)\n",
    "\n",
    "\tpred = model(X)\n",
    "\tloss = F.cross_entropy(pred, y).item()\n",
    "\taccuracy = float(torch.sum(torch.argmax(\n",
    "\t\tpred, dim=1) == y).item()) / y.shape[0]\n",
    "\treturn loss, accuracy\n",
    "\n",
    "\n",
    "teacher_model = load_teacher_model()\n",
    "\n",
    "\n",
    "def studentTrainStepDistillationMNIST(model, data, optimizer):\n",
    "\t\"\"\"\n",
    "\tOne training step of student network: forward prop + backprop + update parameters\n",
    "\tReturn: (loss, accuracy) of current batch\n",
    "\t\"\"\"\n",
    "\t\n",
    "\tX, y = data\n",
    "\n",
    "\tX = X.to(\n",
    "            device=device, dtype=torch.float32)\n",
    "\ty = y.to(\n",
    "\t\tdevice=device, dtype=torch.long)\n",
    "\t\n",
    "\tT = 0.85  # temperature for distillation loss\n",
    "\t# Using a higher value for T produces a softer probability distribution over classes\n",
    "\talpha = 1.0\n",
    "\t# trade-off between soft-target (st) cross-entropy and true-target (tt) cross-entropy;\n",
    "\t# loss = alpha * st + (1 - alpha) * tt\n",
    "\toptimizer.zero_grad()\n",
    "\tteacher_pred = None\n",
    "\tif (alpha > 0):\n",
    "\t\twith torch.no_grad():\n",
    "\t\t\tteacher_model.eval()\n",
    "\t\t\tteacher_pred = teacher_model(X)\n",
    "\tstudent_pred = model(X)\n",
    "\tloss = studentLoss(teacher_pred, student_pred, y, T, alpha)\n",
    "\tloss.backward() # Generates error : element 0 of tensors does not require grad and does not have a grad_fn\n",
    "\toptimizer.step()\n",
    "\taccuracy = float(torch.sum(torch.argmax(\n",
    "\t\tstudent_pred, dim=1) == y).item()) / y.shape[0]\n",
    "\treturn loss, accuracy\n",
    "\n",
    "\n",
    "\n",
    "def studentTrainStep(teacher_net, student_net, studentLossFunction, optimizer, X, y, T, alpha):\n",
    "\t\"\"\"\n",
    "\tOne training step of student network: forward prop + backprop + update parameters\n",
    "\tReturn: (loss, accuracy) of current batch\n",
    "\t\"\"\"\n",
    "\toptimizer.zero_grad()\n",
    "\tteacher_pred = None\n",
    "\tif (alpha > 0):\n",
    "\t\twith torch.no_grad():\n",
    "\t\t\tteacher_pred = teacher_net(X)\n",
    "\tstudent_pred = student_net(X)\n",
    "\tloss = studentLossFunction(teacher_pred, student_pred, y, T, alpha)\n",
    "\tloss.backward()\n",
    "\toptimizer.step()\n",
    "\taccuracy = float(torch.sum(torch.argmax(\n",
    "\t\tstudent_pred, dim=1) == y).item()) / y.shape[0]\n",
    "\treturn loss, accuracy\n",
    "\n",
    "def studentLoss(teacher_pred, student_pred, y, T, alpha):\n",
    "\t\"\"\"\n",
    "\t\tLoss function for student network: Loss = alpha * (distillation loss with soft-target) + (1 - alpha) * (cross-entropy loss with true label)\n",
    "\t\tReturn: loss\n",
    "\t\t\"\"\"\n",
    "\tif (alpha > 0):\n",
    "\t\tloss = F.kl_div(F.log_softmax(student_pred / T, dim=1), F.softmax(teacher_pred / T, dim=1),\n",
    "\t\t\t\t\t\treduction='batchmean') * (T ** 2) * alpha + F.cross_entropy(student_pred, y) * (1 - alpha)\n",
    "\telse:\n",
    "\t\tloss = F.cross_entropy(student_pred, y)\n",
    "\treturn loss\n"
   ]
  },
  {
   "cell_type": "code",
   "execution_count": 10,
   "metadata": {},
   "outputs": [],
   "source": [
    "# Training Function \n",
    "def train(model, train_loader, validate_loader, trainStepFun, testStepFun, epochs=20):\n",
    "    \n",
    "    scheduler_params = dict(max_lr=1e-3,\n",
    "                            epochs=epochs, steps_per_epoch=len(train_loader))\n",
    "\n",
    "    optimizer = optim.AdamW(list(model.parameters()))\n",
    "    scheduler_global = optim.lr_scheduler.OneCycleLR(\n",
    "        optimizer, **scheduler_params)  # goal: maximize Dice score\n",
    "    grad_scaler_global = torch.cuda.amp.GradScaler(\n",
    "        enabled=amp)  # Default parameter\n",
    "    \n",
    "    #best_accuracy = 0.0\n",
    "    #interval = []\n",
    "    #interval_count = 0\n",
    "    #validation_accuracy_progression = []\n",
    "    #validation_loss_progression = []\n",
    "    for epoch in range(1, epochs+1):\n",
    "        #running_train_loss = 0.0\n",
    "        #running_accuracy = 0.0\n",
    "        #running_vall_loss = 0.0\n",
    "        #total = 0\n",
    "        with tqdm(total=len(train_loader)*train_loader.batch_size, desc=f'Epoch {epoch}/{epochs}', unit='img') as pbar_train:\n",
    "            # Training Loop\n",
    "            it = 0\n",
    "            epoch_loss = 0\n",
    "            epoch_acc = 0\n",
    "            for data in train_loader: \n",
    "                model.train()\n",
    "                loss, acc = trainStepFun(model, data, optimizer)\n",
    "                #running_train_loss += loss #  # track the loss value\n",
    "                \n",
    "                it+=1#data[0].shape[0]\n",
    "                epoch_loss += loss\n",
    "                epoch_acc += acc\n",
    "\n",
    "                pbar_train.update(data[0].shape[0])\n",
    "                pbar_train.set_postfix(**{'training loss (batch)': epoch_loss/it, \"training accuracy (batch)\": epoch_acc/it})\n",
    "    \n",
    "            # Calculate training loss value \n",
    "            #train_loss_value = running_train_loss/len(train_loader)\n",
    "\n",
    "        \n",
    "        with tqdm(total=len(validate_loader)*validate_loader.batch_size, desc=f'Epoch {epoch}/{epochs}', unit='img') as pbar_validate:\n",
    "            # Validation Loop \n",
    "            it = 0\n",
    "            epoch_loss = 0\n",
    "            epoch_acc = 0\n",
    "            with torch.no_grad(): # Why not ?\n",
    "                for data in validate_loader:\n",
    "                    model.eval()\n",
    "                    ## loss, acc = trainStepFun(model, data)\n",
    "                    loss, acc = testStepFun(model, data)\n",
    "\n",
    "                    # The label with the highest value will be our prediction \n",
    "                    #running_vall_loss += loss\n",
    "                    #total += 1\n",
    "                    #running_accuracy += acc\n",
    "                    it+=1#data[0].shape[0]\n",
    "                    epoch_loss += loss\n",
    "                    epoch_acc += acc\n",
    "\n",
    "                    pbar_validate.update(data[0].shape[0])\n",
    "                    pbar_validate.set_postfix(**{'validation loss (batch)': epoch_loss/it, \"validation accuracy (batch)\": epoch_acc/it})\n",
    "                                                \n",
    "                    #validation_accuracy_progression.append(acc)\n",
    "                    #validation_loss_progression.append(loss)\n",
    "                    #interval_count += 1\n",
    "                    #interval.append(interval_count)\n",
    "    \n",
    "        # Calculate validation loss value \n",
    "        #val_loss_value = running_vall_loss/len(validate_loader) \n",
    "                \n",
    "        # Calculate accuracy as the number of correct predictions in the validation batch divided by the total number of predictions done.  \n",
    "        #accuracy = (100.0 * running_accuracy / total)     \n",
    " \n",
    "        # Save the model if the accuracy is the best \n",
    "        #if accuracy > best_accuracy:\n",
    "        #    torch.save(model.state_dict(), save_folder +\n",
    "        #               \"/newtork_weigths/model_epoch{:}_validation_accuracy{:.3f}_train_loss{:.3f}.pth\".format(epoch, accuracy, train_loss_value))\n",
    "        #    best_accuracy = accuracy\n",
    "         \n",
    "        # Print the statistics of the epoch \n",
    "        #print('Completed training batch', epoch, 'Training Loss is: %.4f' %train_loss_value,\n",
    "        #       'Validation Loss is: %.4f' %val_loss_value, 'Accuracy is %d %%' % (accuracy))\n",
    "        \"\"\"\n",
    "        validation_accuracy_smooth = smooth(validation_accuracy_progression, 0.99)\n",
    "        validation_loss_smooth = smooth(validation_loss_progression, 0.99)\n",
    "\n",
    "        plt.figure(1)\n",
    "        plt.clf()\n",
    "        plt.plot(interval, validation_accuracy_smooth,\n",
    "                 'g-', label='Global accuracy')\n",
    "        plt.xlabel(\"Iterations\")\n",
    "        plt.ylabel(\"Accuracy Value\")\n",
    "        plt.title(\"Accuracy Monitoring among validation\")\n",
    "        plt.legend()\n",
    "        plt.savefig(save_folder+\"/training_monitoring/accuracy_\" +\n",
    "                    str(epoch)+\"_epoch.png\")\n",
    "        \n",
    "        if (epoch == epochs):\n",
    "            plt.show()\n",
    "\n",
    "        plt.figure(1)\n",
    "        plt.clf()\n",
    "        plt.plot(interval, validation_loss_smooth,\n",
    "                 'r-', label='Global loss')\n",
    "        plt.xlabel(\"Iterations\")\n",
    "        plt.ylabel(\"Loss Value\")\n",
    "        plt.title(\"Loss Monitoring among validation\")\n",
    "        plt.legend()\n",
    "        plt.savefig(save_folder+\"/training_monitoring/loss_\" +\n",
    "                    str(epoch)+\"_epoch.png\")\n",
    "        \n",
    "        if (epoch == epochs):\n",
    "            plt.show()\n",
    "        \"\"\"\n",
    "\n",
    "    # Return the fully trained model\n",
    "    return model\n",
    "\n",
    "\n"
   ]
  },
  {
   "cell_type": "code",
   "execution_count": 11,
   "metadata": {},
   "outputs": [],
   "source": [
    "# Function to test the model\n",
    "def test(model, test_loader, testStepFun):\n",
    "    iter = 0\n",
    "    epoch_loss = 0\n",
    "    epoch_acc = 0\n",
    "    with tqdm(total=len(test_loader)*test_loader.batch_size, desc=f'Testing', unit='img') as pbar_test:\n",
    "        with torch.no_grad():\n",
    "            for data in test_loader:\n",
    "                loss, acc = testStepFun(model, data)\n",
    "\n",
    "                iter += 1\n",
    "                epoch_loss += loss\n",
    "                epoch_acc += acc\n",
    "                \n",
    "\n",
    "                pbar_test.update(data[0].shape[0])\n",
    "                pbar_test.set_postfix(**{'test loss': epoch_loss/iter, \"test accuracy\": epoch_acc/iter})\n",
    "    return epoch_loss/iter , epoch_acc/iter"
   ]
  },
  {
   "cell_type": "code",
   "execution_count": 10,
   "metadata": {},
   "outputs": [],
   "source": [
    "n_epochs = 10"
   ]
  },
  {
   "cell_type": "code",
   "execution_count": 11,
   "metadata": {},
   "outputs": [
    {
     "name": "stderr",
     "output_type": "stream",
     "text": [
      "Epoch 1/10: 100%|██████████| 42000/42000 [01:14<00:00, 562.58img/s, training accuracy (batch)=0.914, training loss (batch)=tensor(0.3095, device='cuda:0', grad_fn=<DivBackward0>)]\n",
      "Epoch 1/10: 100%|██████████| 9000/9000 [00:09<00:00, 976.77img/s, validation accuracy (batch)=0.947, validation loss (batch)=0.173] \n",
      "Epoch 2/10: 100%|██████████| 42000/42000 [01:11<00:00, 590.57img/s, training accuracy (batch)=0.963, training loss (batch)=tensor(0.1266, device='cuda:0', grad_fn=<DivBackward0>)] \n",
      "Epoch 2/10: 100%|██████████| 9000/9000 [00:04<00:00, 2240.33img/s, validation accuracy (batch)=0.964, validation loss (batch)=0.12] \n",
      "Epoch 3/10: 100%|██████████| 42000/42000 [01:14<00:00, 565.38img/s, training accuracy (batch)=0.976, training loss (batch)=tensor(0.0787, device='cuda:0', grad_fn=<DivBackward0>)]\n",
      "Epoch 3/10: 100%|██████████| 9000/9000 [00:09<00:00, 961.93img/s, validation accuracy (batch)=0.971, validation loss (batch)=0.0983] \n",
      "Epoch 4/10: 100%|██████████| 42000/42000 [01:13<00:00, 569.02img/s, training accuracy (batch)=0.983, training loss (batch)=tensor(0.0545, device='cuda:0', grad_fn=<DivBackward0>)] \n",
      "Epoch 4/10: 100%|██████████| 9000/9000 [00:08<00:00, 1006.04img/s, validation accuracy (batch)=0.975, validation loss (batch)=0.0858]\n",
      "Epoch 5/10: 100%|██████████| 42000/42000 [01:14<00:00, 566.11img/s, training accuracy (batch)=0.989, training loss (batch)=tensor(0.0378, device='cuda:0', grad_fn=<DivBackward0>)]\n",
      "Epoch 5/10: 100%|██████████| 9000/9000 [00:09<00:00, 977.56img/s, validation accuracy (batch)=0.977, validation loss (batch)=0.0881] \n",
      "Epoch 6/10: 100%|██████████| 42000/42000 [01:13<00:00, 568.58img/s, training accuracy (batch)=0.992, training loss (batch)=tensor(0.0261, device='cuda:0', grad_fn=<DivBackward0>)] \n",
      "Epoch 6/10: 100%|██████████| 9000/9000 [00:09<00:00, 993.61img/s, validation accuracy (batch)=0.976, validation loss (batch)=0.0891] \n",
      "Epoch 7/10: 100%|██████████| 42000/42000 [01:14<00:00, 564.67img/s, training accuracy (batch)=0.995, training loss (batch)=tensor(0.0178, device='cuda:0', grad_fn=<DivBackward0>)]\n",
      "Epoch 7/10: 100%|██████████| 9000/9000 [00:09<00:00, 987.76img/s, validation accuracy (batch)=0.977, validation loss (batch)=0.0853] \n",
      "Epoch 8/10: 100%|██████████| 42000/42000 [01:14<00:00, 565.44img/s, training accuracy (batch)=0.996, training loss (batch)=tensor(0.0143, device='cuda:0', grad_fn=<DivBackward0>)]\n",
      "Epoch 8/10: 100%|██████████| 9000/9000 [00:08<00:00, 1007.23img/s, validation accuracy (batch)=0.974, validation loss (batch)=0.0985]\n",
      "Epoch 9/10:  58%|█████▊    | 24400/42000 [00:44<00:31, 553.57img/s, training accuracy (batch)=0.997, training loss (batch)=tensor(0.0099, device='cuda:0', grad_fn=<DivBackward0>)]\n"
     ]
    },
    {
     "ename": "KeyboardInterrupt",
     "evalue": "",
     "output_type": "error",
     "traceback": [
      "\u001b[0;31m---------------------------------------------------------------------------\u001b[0m",
      "\u001b[0;31mKeyboardInterrupt\u001b[0m                         Traceback (most recent call last)",
      "\u001b[0;32m<ipython-input-11-81925eb459f4>\u001b[0m in \u001b[0;36m<module>\u001b[0;34m\u001b[0m\n\u001b[0;32m----> 1\u001b[0;31m \u001b[0mteacher_model\u001b[0m \u001b[0;34m=\u001b[0m \u001b[0mtrain\u001b[0m\u001b[0;34m(\u001b[0m\u001b[0mload_teacher_model\u001b[0m\u001b[0;34m(\u001b[0m\u001b[0;34m)\u001b[0m\u001b[0;34m,\u001b[0m \u001b[0mtrain_dataloader\u001b[0m\u001b[0;34m,\u001b[0m \u001b[0mvalidation_dataloader\u001b[0m\u001b[0;34m,\u001b[0m \u001b[0mtrainStep\u001b[0m\u001b[0;34m,\u001b[0m \u001b[0mtestStep\u001b[0m\u001b[0;34m,\u001b[0m \u001b[0mn_epochs\u001b[0m\u001b[0;34m)\u001b[0m\u001b[0;34m\u001b[0m\u001b[0;34m\u001b[0m\u001b[0m\n\u001b[0m\u001b[1;32m      2\u001b[0m \u001b[0msave_model\u001b[0m\u001b[0;34m(\u001b[0m\u001b[0mteacher_model\u001b[0m\u001b[0;34m,\u001b[0m \u001b[0msave_folder\u001b[0m\u001b[0;34m+\u001b[0m\u001b[0;34m\"/newtork_weigths/teacher_model.pth\"\u001b[0m\u001b[0;34m)\u001b[0m\u001b[0;34m\u001b[0m\u001b[0;34m\u001b[0m\u001b[0m\n",
      "\u001b[0;32m<ipython-input-8-29f7d00dc649>\u001b[0m in \u001b[0;36mtrain\u001b[0;34m(model, train_loader, validate_loader, trainStepFun, testStepFun, epochs)\u001b[0m\n\u001b[1;32m     28\u001b[0m             \u001b[0;32mfor\u001b[0m \u001b[0mdata\u001b[0m \u001b[0;32min\u001b[0m \u001b[0mtrain_loader\u001b[0m\u001b[0;34m:\u001b[0m\u001b[0;34m\u001b[0m\u001b[0;34m\u001b[0m\u001b[0m\n\u001b[1;32m     29\u001b[0m                 \u001b[0mmodel\u001b[0m\u001b[0;34m.\u001b[0m\u001b[0mtrain\u001b[0m\u001b[0;34m(\u001b[0m\u001b[0;34m)\u001b[0m\u001b[0;34m\u001b[0m\u001b[0;34m\u001b[0m\u001b[0m\n\u001b[0;32m---> 30\u001b[0;31m                 \u001b[0mloss\u001b[0m\u001b[0;34m,\u001b[0m \u001b[0macc\u001b[0m \u001b[0;34m=\u001b[0m \u001b[0mtrainStepFun\u001b[0m\u001b[0;34m(\u001b[0m\u001b[0mmodel\u001b[0m\u001b[0;34m,\u001b[0m \u001b[0mdata\u001b[0m\u001b[0;34m,\u001b[0m \u001b[0moptimizer\u001b[0m\u001b[0;34m)\u001b[0m\u001b[0;34m\u001b[0m\u001b[0;34m\u001b[0m\u001b[0m\n\u001b[0m\u001b[1;32m     31\u001b[0m                 \u001b[0;31m#running_train_loss += loss #  # track the loss value\u001b[0m\u001b[0;34m\u001b[0m\u001b[0;34m\u001b[0m\u001b[0;34m\u001b[0m\u001b[0m\n\u001b[1;32m     32\u001b[0m \u001b[0;34m\u001b[0m\u001b[0m\n",
      "\u001b[0;32m<ipython-input-7-4dcb26e9ea8a>\u001b[0m in \u001b[0;36mtrainStep\u001b[0;34m(model, data, optimizer)\u001b[0m\n\u001b[1;32m     14\u001b[0m         \u001b[0mpred\u001b[0m \u001b[0;34m=\u001b[0m \u001b[0mmodel\u001b[0m\u001b[0;34m(\u001b[0m\u001b[0mX\u001b[0m\u001b[0;34m)\u001b[0m\u001b[0;34m\u001b[0m\u001b[0;34m\u001b[0m\u001b[0m\n\u001b[1;32m     15\u001b[0m         \u001b[0mloss\u001b[0m \u001b[0;34m=\u001b[0m \u001b[0mF\u001b[0m\u001b[0;34m.\u001b[0m\u001b[0mcross_entropy\u001b[0m\u001b[0;34m(\u001b[0m\u001b[0mpred\u001b[0m\u001b[0;34m,\u001b[0m \u001b[0my\u001b[0m\u001b[0;34m)\u001b[0m\u001b[0;34m\u001b[0m\u001b[0;34m\u001b[0m\u001b[0m\n\u001b[0;32m---> 16\u001b[0;31m         \u001b[0mloss\u001b[0m\u001b[0;34m.\u001b[0m\u001b[0mbackward\u001b[0m\u001b[0;34m(\u001b[0m\u001b[0;34m)\u001b[0m\u001b[0;34m\u001b[0m\u001b[0;34m\u001b[0m\u001b[0m\n\u001b[0m\u001b[1;32m     17\u001b[0m         \u001b[0moptimizer\u001b[0m\u001b[0;34m.\u001b[0m\u001b[0mstep\u001b[0m\u001b[0;34m(\u001b[0m\u001b[0;34m)\u001b[0m\u001b[0;34m\u001b[0m\u001b[0;34m\u001b[0m\u001b[0m\n\u001b[1;32m     18\u001b[0m \taccuracy = float(torch.sum(torch.argmax(\n",
      "\u001b[0;32m~/env/lib/python3.6/site-packages/torch/_tensor.py\u001b[0m in \u001b[0;36mbackward\u001b[0;34m(self, gradient, retain_graph, create_graph, inputs)\u001b[0m\n\u001b[1;32m    305\u001b[0m                 \u001b[0mcreate_graph\u001b[0m\u001b[0;34m=\u001b[0m\u001b[0mcreate_graph\u001b[0m\u001b[0;34m,\u001b[0m\u001b[0;34m\u001b[0m\u001b[0;34m\u001b[0m\u001b[0m\n\u001b[1;32m    306\u001b[0m                 inputs=inputs)\n\u001b[0;32m--> 307\u001b[0;31m         \u001b[0mtorch\u001b[0m\u001b[0;34m.\u001b[0m\u001b[0mautograd\u001b[0m\u001b[0;34m.\u001b[0m\u001b[0mbackward\u001b[0m\u001b[0;34m(\u001b[0m\u001b[0mself\u001b[0m\u001b[0;34m,\u001b[0m \u001b[0mgradient\u001b[0m\u001b[0;34m,\u001b[0m \u001b[0mretain_graph\u001b[0m\u001b[0;34m,\u001b[0m \u001b[0mcreate_graph\u001b[0m\u001b[0;34m,\u001b[0m \u001b[0minputs\u001b[0m\u001b[0;34m=\u001b[0m\u001b[0minputs\u001b[0m\u001b[0;34m)\u001b[0m\u001b[0;34m\u001b[0m\u001b[0;34m\u001b[0m\u001b[0m\n\u001b[0m\u001b[1;32m    308\u001b[0m \u001b[0;34m\u001b[0m\u001b[0m\n\u001b[1;32m    309\u001b[0m     \u001b[0;32mdef\u001b[0m \u001b[0mregister_hook\u001b[0m\u001b[0;34m(\u001b[0m\u001b[0mself\u001b[0m\u001b[0;34m,\u001b[0m \u001b[0mhook\u001b[0m\u001b[0;34m)\u001b[0m\u001b[0;34m:\u001b[0m\u001b[0;34m\u001b[0m\u001b[0;34m\u001b[0m\u001b[0m\n",
      "\u001b[0;32m~/env/lib/python3.6/site-packages/torch/autograd/__init__.py\u001b[0m in \u001b[0;36mbackward\u001b[0;34m(tensors, grad_tensors, retain_graph, create_graph, grad_variables, inputs)\u001b[0m\n\u001b[1;32m    154\u001b[0m     Variable._execution_engine.run_backward(\n\u001b[1;32m    155\u001b[0m         \u001b[0mtensors\u001b[0m\u001b[0;34m,\u001b[0m \u001b[0mgrad_tensors_\u001b[0m\u001b[0;34m,\u001b[0m \u001b[0mretain_graph\u001b[0m\u001b[0;34m,\u001b[0m \u001b[0mcreate_graph\u001b[0m\u001b[0;34m,\u001b[0m \u001b[0minputs\u001b[0m\u001b[0;34m,\u001b[0m\u001b[0;34m\u001b[0m\u001b[0;34m\u001b[0m\u001b[0m\n\u001b[0;32m--> 156\u001b[0;31m         allow_unreachable=True, accumulate_grad=True)  # allow_unreachable flag\n\u001b[0m\u001b[1;32m    157\u001b[0m \u001b[0;34m\u001b[0m\u001b[0m\n\u001b[1;32m    158\u001b[0m \u001b[0;34m\u001b[0m\u001b[0m\n",
      "\u001b[0;31mKeyboardInterrupt\u001b[0m: "
     ]
    }
   ],
   "source": [
    "teacher_model = train(load_teacher_model(), train_dataloader, validation_dataloader, trainStep, testStep, n_epochs)\n",
    "save_model(teacher_model, save_folder+\"/newtork_weigths/teacher_model.pth\")"
   ]
  },
  {
   "cell_type": "code",
   "execution_count": null,
   "metadata": {},
   "outputs": [],
   "source": [
    "models_1 = []\n",
    "\n",
    "models_2 = []\n",
    "\n",
    "n_models = 40\n",
    "\n",
    "\n",
    "for i in range(30, n_models):\n",
    "      l1_size = int(1+i*1)\n",
    "      # Train models without distillation\n",
    "      model = train(load_model(GenericNetwork(l1_size)), train_dataloader, validation_dataloader, trainStep, testStep, n_epochs)\n",
    "      models_1.append(model)\n",
    "      save_model(model, save_folder+\"/newtork_weigths/no_distillation_first_layer_size_{:}.pth\".format(l1_size))\n",
    "\n",
    "      model = train(load_model(GenericNetwork(l1_size)), train_dataloader, validation_dataloader, studentTrainStepDistillationMNIST, testStep, n_epochs)\n",
    "      models_2.append(model)\n",
    "      save_model(model, save_folder+\"/newtork_weigths/distillation_first_layer_size_{:}.pth\".format(l1_size))\n"
   ]
  },
  {
   "cell_type": "code",
   "execution_count": 41,
   "metadata": {},
   "outputs": [],
   "source": [
    "def get_trainable_param(model):\n",
    "    model_parameters = filter(lambda p: p.requires_grad, model.parameters())\n",
    "    return sum([np.prod(p.size()) for p in model_parameters])"
   ]
  },
  {
   "attachments": {},
   "cell_type": "markdown",
   "metadata": {},
   "source": [
    "# Load models for testing"
   ]
  },
  {
   "cell_type": "code",
   "execution_count": 37,
   "metadata": {},
   "outputs": [],
   "source": [
    "not_distilled_model_paths = get_path_list(save_folder+\"/newtork_weigths\", \"no_distillation\")\n",
    "not_distilled_size = get_last_number_in_name(not_distilled_model_paths)\n",
    "\n",
    "# Code to order model_paths and param by param in ascending order\n",
    "not_distilled_model_paths = [x for _,x in sorted(zip(not_distilled_size,not_distilled_model_paths))]\n",
    "not_distilled_size = sorted(not_distilled_size)\n",
    "\n",
    "# Load the not distilled models in a list, initiating the GenericNetwork model with the correct size\n",
    "not_distilled_models = []\n",
    "for i in range(len(not_distilled_model_paths)):\n",
    "    not_distilled_models.append(load_model(GenericNetwork(not_distilled_size[i]), not_distilled_model_paths[i]))\n",
    "\n",
    "distilled_model_paths = get_path_list(save_folder+\"/newtork_weigths\", \"distillation\")\n",
    "distilled_size = get_last_number_in_name(distilled_model_paths)\n",
    "\n",
    "# Code to order model_paths and param by param in ascending order\n",
    "distilled_model_paths = [x for _,x in sorted(zip(distilled_size,distilled_model_paths))]\n",
    "distilled_size = sorted(distilled_size)\n",
    "\n",
    "# Load the distilled models in a list, initiating the GenericNetwork model with the correct size\n",
    "distilled_models = []\n",
    "for i in range(len(distilled_model_paths)):\n",
    "    distilled_models.append(load_model(GenericNetwork(distilled_size[i]), distilled_model_paths[i]))\n"
   ]
  },
  {
   "cell_type": "code",
   "execution_count": 45,
   "metadata": {},
   "outputs": [
    {
     "name": "stdout",
     "output_type": "stream",
     "text": [
      "Testing models without distillation\n",
      "0\n"
     ]
    },
    {
     "name": "stderr",
     "output_type": "stream",
     "text": [
      "Testing: 100%|██████████| 9000/9000 [00:03<00:00, 2964.82img/s, test accuracy=0.271, test loss=1.87]\n"
     ]
    },
    {
     "name": "stdout",
     "output_type": "stream",
     "text": [
      "1\n"
     ]
    },
    {
     "name": "stderr",
     "output_type": "stream",
     "text": [
      "Testing: 100%|██████████| 9000/9000 [00:02<00:00, 3037.41img/s, test accuracy=0.404, test loss=1.58]\n"
     ]
    },
    {
     "name": "stdout",
     "output_type": "stream",
     "text": [
      "2\n"
     ]
    },
    {
     "name": "stderr",
     "output_type": "stream",
     "text": [
      "Testing: 100%|██████████| 9000/9000 [00:02<00:00, 3035.61img/s, test accuracy=0.666, test loss=1.06]\n"
     ]
    },
    {
     "name": "stdout",
     "output_type": "stream",
     "text": [
      "3\n"
     ]
    },
    {
     "name": "stderr",
     "output_type": "stream",
     "text": [
      "Testing: 100%|██████████| 9000/9000 [00:02<00:00, 3066.15img/s, test accuracy=0.658, test loss=0.973]\n"
     ]
    },
    {
     "name": "stdout",
     "output_type": "stream",
     "text": [
      "4\n"
     ]
    },
    {
     "name": "stderr",
     "output_type": "stream",
     "text": [
      "Testing: 100%|██████████| 9000/9000 [00:02<00:00, 3175.39img/s, test accuracy=0.806, test loss=0.659]\n"
     ]
    },
    {
     "name": "stdout",
     "output_type": "stream",
     "text": [
      "5\n"
     ]
    },
    {
     "name": "stderr",
     "output_type": "stream",
     "text": [
      "Testing: 100%|██████████| 9000/9000 [00:03<00:00, 2885.67img/s, test accuracy=0.877, test loss=0.438]\n"
     ]
    },
    {
     "name": "stdout",
     "output_type": "stream",
     "text": [
      "6\n"
     ]
    },
    {
     "name": "stderr",
     "output_type": "stream",
     "text": [
      "Testing: 100%|██████████| 9000/9000 [00:03<00:00, 2917.27img/s, test accuracy=0.882, test loss=0.399]\n"
     ]
    },
    {
     "name": "stdout",
     "output_type": "stream",
     "text": [
      "7\n"
     ]
    },
    {
     "name": "stderr",
     "output_type": "stream",
     "text": [
      "Testing: 100%|██████████| 9000/9000 [00:02<00:00, 3002.97img/s, test accuracy=0.902, test loss=0.339]\n"
     ]
    },
    {
     "name": "stdout",
     "output_type": "stream",
     "text": [
      "8\n"
     ]
    },
    {
     "name": "stderr",
     "output_type": "stream",
     "text": [
      "Testing: 100%|██████████| 9000/9000 [00:03<00:00, 2902.42img/s, test accuracy=0.9, test loss=0.344]  \n"
     ]
    },
    {
     "name": "stdout",
     "output_type": "stream",
     "text": [
      "9\n"
     ]
    },
    {
     "name": "stderr",
     "output_type": "stream",
     "text": [
      "Testing: 100%|██████████| 9000/9000 [00:03<00:00, 2985.83img/s, test accuracy=0.907, test loss=0.319]\n"
     ]
    },
    {
     "name": "stdout",
     "output_type": "stream",
     "text": [
      "10\n"
     ]
    },
    {
     "name": "stderr",
     "output_type": "stream",
     "text": [
      "Testing: 100%|██████████| 9000/9000 [00:02<00:00, 3024.83img/s, test accuracy=0.912, test loss=0.306]\n"
     ]
    },
    {
     "name": "stdout",
     "output_type": "stream",
     "text": [
      "11\n"
     ]
    },
    {
     "name": "stderr",
     "output_type": "stream",
     "text": [
      "Testing: 100%|██████████| 9000/9000 [00:03<00:00, 2855.48img/s, test accuracy=0.913, test loss=0.291]\n"
     ]
    },
    {
     "name": "stdout",
     "output_type": "stream",
     "text": [
      "12\n"
     ]
    },
    {
     "name": "stderr",
     "output_type": "stream",
     "text": [
      "Testing: 100%|██████████| 9000/9000 [00:02<00:00, 3000.16img/s, test accuracy=0.917, test loss=0.29] \n"
     ]
    },
    {
     "name": "stdout",
     "output_type": "stream",
     "text": [
      "13\n"
     ]
    },
    {
     "name": "stderr",
     "output_type": "stream",
     "text": [
      "Testing: 100%|██████████| 9000/9000 [00:03<00:00, 2968.82img/s, test accuracy=0.913, test loss=0.295]\n"
     ]
    },
    {
     "name": "stdout",
     "output_type": "stream",
     "text": [
      "14\n"
     ]
    },
    {
     "name": "stderr",
     "output_type": "stream",
     "text": [
      "Testing: 100%|██████████| 9000/9000 [00:03<00:00, 2967.29img/s, test accuracy=0.921, test loss=0.269]\n"
     ]
    },
    {
     "name": "stdout",
     "output_type": "stream",
     "text": [
      "15\n"
     ]
    },
    {
     "name": "stderr",
     "output_type": "stream",
     "text": [
      "Testing: 100%|██████████| 9000/9000 [00:03<00:00, 2979.60img/s, test accuracy=0.923, test loss=0.266]\n"
     ]
    },
    {
     "name": "stdout",
     "output_type": "stream",
     "text": [
      "16\n"
     ]
    },
    {
     "name": "stderr",
     "output_type": "stream",
     "text": [
      "Testing: 100%|██████████| 9000/9000 [00:03<00:00, 2990.74img/s, test accuracy=0.918, test loss=0.278]\n"
     ]
    },
    {
     "name": "stdout",
     "output_type": "stream",
     "text": [
      "17\n"
     ]
    },
    {
     "name": "stderr",
     "output_type": "stream",
     "text": [
      "Testing: 100%|██████████| 9000/9000 [00:02<00:00, 3023.14img/s, test accuracy=0.923, test loss=0.258]\n"
     ]
    },
    {
     "name": "stdout",
     "output_type": "stream",
     "text": [
      "18\n"
     ]
    },
    {
     "name": "stderr",
     "output_type": "stream",
     "text": [
      "Testing: 100%|██████████| 9000/9000 [00:03<00:00, 2947.17img/s, test accuracy=0.926, test loss=0.257]\n"
     ]
    },
    {
     "name": "stdout",
     "output_type": "stream",
     "text": [
      "19\n"
     ]
    },
    {
     "name": "stderr",
     "output_type": "stream",
     "text": [
      "Testing: 100%|██████████| 9000/9000 [00:02<00:00, 3140.82img/s, test accuracy=0.926, test loss=0.255]\n"
     ]
    },
    {
     "name": "stdout",
     "output_type": "stream",
     "text": [
      "20\n"
     ]
    },
    {
     "name": "stderr",
     "output_type": "stream",
     "text": [
      "Testing: 100%|██████████| 9000/9000 [00:03<00:00, 2972.88img/s, test accuracy=0.925, test loss=0.257]\n"
     ]
    },
    {
     "name": "stdout",
     "output_type": "stream",
     "text": [
      "21\n"
     ]
    },
    {
     "name": "stderr",
     "output_type": "stream",
     "text": [
      "Testing: 100%|██████████| 9000/9000 [00:03<00:00, 2976.25img/s, test accuracy=0.921, test loss=0.261]\n"
     ]
    },
    {
     "name": "stdout",
     "output_type": "stream",
     "text": [
      "22\n"
     ]
    },
    {
     "name": "stderr",
     "output_type": "stream",
     "text": [
      "Testing: 100%|██████████| 9000/9000 [00:02<00:00, 3001.72img/s, test accuracy=0.927, test loss=0.25] \n"
     ]
    },
    {
     "name": "stdout",
     "output_type": "stream",
     "text": [
      "23\n"
     ]
    },
    {
     "name": "stderr",
     "output_type": "stream",
     "text": [
      "Testing: 100%|██████████| 9000/9000 [00:03<00:00, 2936.38img/s, test accuracy=0.927, test loss=0.248]\n"
     ]
    },
    {
     "name": "stdout",
     "output_type": "stream",
     "text": [
      "24\n"
     ]
    },
    {
     "name": "stderr",
     "output_type": "stream",
     "text": [
      "Testing: 100%|██████████| 9000/9000 [00:03<00:00, 2946.50img/s, test accuracy=0.925, test loss=0.255]\n"
     ]
    },
    {
     "name": "stdout",
     "output_type": "stream",
     "text": [
      "25\n"
     ]
    },
    {
     "name": "stderr",
     "output_type": "stream",
     "text": [
      "Testing: 100%|██████████| 9000/9000 [00:03<00:00, 2970.54img/s, test accuracy=0.93, test loss=0.243] \n"
     ]
    },
    {
     "name": "stdout",
     "output_type": "stream",
     "text": [
      "26\n"
     ]
    },
    {
     "name": "stderr",
     "output_type": "stream",
     "text": [
      "Testing: 100%|██████████| 9000/9000 [00:02<00:00, 3087.58img/s, test accuracy=0.932, test loss=0.234]\n"
     ]
    },
    {
     "name": "stdout",
     "output_type": "stream",
     "text": [
      "27\n"
     ]
    },
    {
     "name": "stderr",
     "output_type": "stream",
     "text": [
      "Testing: 100%|██████████| 9000/9000 [00:02<00:00, 3171.95img/s, test accuracy=0.929, test loss=0.246]\n"
     ]
    },
    {
     "name": "stdout",
     "output_type": "stream",
     "text": [
      "28\n"
     ]
    },
    {
     "name": "stderr",
     "output_type": "stream",
     "text": [
      "Testing: 100%|██████████| 9000/9000 [00:02<00:00, 3049.76img/s, test accuracy=0.928, test loss=0.243]\n"
     ]
    },
    {
     "name": "stdout",
     "output_type": "stream",
     "text": [
      "29\n"
     ]
    },
    {
     "name": "stderr",
     "output_type": "stream",
     "text": [
      "Testing: 100%|██████████| 9000/9000 [00:02<00:00, 3084.53img/s, test accuracy=0.935, test loss=0.225]\n"
     ]
    },
    {
     "name": "stdout",
     "output_type": "stream",
     "text": [
      "30\n"
     ]
    },
    {
     "name": "stderr",
     "output_type": "stream",
     "text": [
      "Testing: 100%|██████████| 9000/9000 [00:02<00:00, 3134.75img/s, test accuracy=0.934, test loss=0.231]\n"
     ]
    },
    {
     "name": "stdout",
     "output_type": "stream",
     "text": [
      "31\n"
     ]
    },
    {
     "name": "stderr",
     "output_type": "stream",
     "text": [
      "Testing: 100%|██████████| 9000/9000 [00:02<00:00, 3006.71img/s, test accuracy=0.938, test loss=0.221]\n"
     ]
    },
    {
     "name": "stdout",
     "output_type": "stream",
     "text": [
      "32\n"
     ]
    },
    {
     "name": "stderr",
     "output_type": "stream",
     "text": [
      "Testing: 100%|██████████| 9000/9000 [00:03<00:00, 2976.62img/s, test accuracy=0.939, test loss=0.214]\n"
     ]
    },
    {
     "name": "stdout",
     "output_type": "stream",
     "text": [
      "33\n"
     ]
    },
    {
     "name": "stderr",
     "output_type": "stream",
     "text": [
      "Testing: 100%|██████████| 9000/9000 [00:03<00:00, 2990.10img/s, test accuracy=0.93, test loss=0.236] \n"
     ]
    },
    {
     "name": "stdout",
     "output_type": "stream",
     "text": [
      "34\n"
     ]
    },
    {
     "name": "stderr",
     "output_type": "stream",
     "text": [
      "Testing:  89%|████████▉ | 8030/9000 [00:02<00:00, 3897.46img/s, test accuracy=0.936, test loss=0.221]"
     ]
    }
   ],
   "source": [
    "not_distilled_loss = []\n",
    "not_distilled_accuracy = []\n",
    "not_distilled_param = []\n",
    "\n",
    "print(\"Testing models without distillation\")\n",
    "for i in range(0, len(not_distilled_models)):\n",
    "    print(i)\n",
    "    model = not_distilled_models[i]\n",
    "    not_distilled_param.append(get_trainable_param(model))\n",
    "    loss, acc = test(model, test_dataloader, testStep)\n",
    "    not_distilled_loss.append(loss)\n",
    "    not_distilled_accuracy.append(acc)\n",
    "\n",
    "distilled_loss = []\n",
    "distilled_accuracy = []\n",
    "distilled_param = []\n",
    "\n",
    "print(\"Testing models with distillation\")\n",
    "for i in range(0, len(distilled_models)):\n",
    "    print(i)\n",
    "    model = distilled_models[i]\n",
    "    distilled_param.append(get_trainable_param(model))\n",
    "    loss, acc = test(model, test_dataloader, testStep)\n",
    "    distilled_loss.append(loss)\n",
    "    distilled_accuracy.append(acc)\n"
   ]
  },
  {
   "attachments": {},
   "cell_type": "markdown",
   "metadata": {},
   "source": [
    "# Plot data"
   ]
  },
  {
   "cell_type": "code",
   "execution_count": 44,
   "metadata": {},
   "outputs": [
    {
     "data": {
      "image/png": "[encoded data removed]",
      "text/plain": [
       "<Figure size 432x288 with 1 Axes>"
      ]
     },
     "metadata": {
      "needs_background": "light"
     },
     "output_type": "display_data"
    }
   ],
   "source": [
    "# PLOT ACCURACY\n",
    "\n",
    "# Plot accuracy in respect to the number of parameters\n",
    "plt.figure(1)\n",
    "plt.clf()\n",
    "plt.plot(not_distilled_param, not_distilled_accuracy,\n",
    "            'g-', label='No distillation')\n",
    "plt.plot(distilled_param, distilled_accuracy,\n",
    "            'r-', label='Distillation')\n",
    "plt.xlabel(\"Number of parameters\")\n",
    "plt.ylabel(\"Accuracy Value\")\n",
    "plt.title(\"Accuracy Monitoring among models\")\n",
    "plt.legend()\n",
    "plt.savefig(save_folder+\"/training_monitoring/accuracy_param.png\")\n",
    "plt.show()\n",
    "\n",
    "\n",
    "\n",
    "# Plot the gain in accuracy in respect to the number of parameters for the distilled models\n",
    "plt.figure(1)\n",
    "plt.clf()\n",
    "plt.plot(distilled_param, np.array(distilled_accuracy)-np.array(not_distilled_accuracy),\n",
    "            'r-', label='Gain')\n",
    "plt.xlabel(\"Number of parameters\")\n",
    "plt.ylabel(\"Accuracy Value\")\n",
    "plt.title(\"Accuracy Gain Monitoring among models\")\n",
    "plt.legend()\n",
    "plt.savefig(save_folder+\"/training_monitoring/accuracy_gain_param.png\")\n",
    "plt.show()\n",
    "\n",
    "\n",
    "\n",
    "# PLOT LOSS\n",
    "\n",
    "# Plot loss in respect to the number of parameters\n",
    "plt.figure(1)\n",
    "plt.clf()\n",
    "plt.plot(not_distilled_param, not_distilled_loss,\n",
    "            'g-', label='No distillation')\n",
    "plt.plot(distilled_param, distilled_loss,\n",
    "            'r-', label='Distillation')\n",
    "plt.xlabel(\"Number of parameters\")\n",
    "plt.ylabel(\"Loss Value\")\n",
    "plt.title(\"Loss Monitoring among models\")\n",
    "plt.legend()\n",
    "plt.savefig(save_folder+\"/training_monitoring/loss_param.png\")\n",
    "plt.show()\n",
    "\n",
    "\n",
    "# Plot the gain in loss in respect to the number of parameters for the distilled models\n",
    "plt.figure(1)\n",
    "plt.clf()\n",
    "plt.plot(distilled_param, np.array(not_distilled_loss)-np.array(distilled_loss),\n",
    "            'r-', label='Gain')\n",
    "plt.xlabel(\"Number of parameters\")\n",
    "plt.ylabel(\"Loss Value\")\n",
    "plt.title(\"Loss Gain Monitoring among models\")\n",
    "plt.legend()\n",
    "plt.savefig(save_folder+\"/training_monitoring/loss_gain_param.png\")\n",
    "plt.show()\n"
   ]
  },
  {
   "cell_type": "code",
   "execution_count": null,
   "metadata": {},
   "outputs": [
    {
     "name": "stdout",
     "output_type": "stream",
     "text": [
      "[3985, 7960, 11935, 15910, 19885, 23860, 27835, 31810, 35785, 39760, 43735, 47710, 51685, 55660, 59635, 63610, 67585, 71560, 75535, 79510]\n",
      "[0.8595555555555504, 0.9107777777777708, 0.9184444444444372, 0.9225555555555486, 0.9225555555555488, 0.9346666666666612, 0.935777777777772, 0.9402222222222156, 0.9403333333333271, 0.9419999999999942, 0.9458888888888832, 0.9454444444444383, 0.9503333333333278, 0.9502222222222173, 0.9505555555555497, 0.951444444444439, 0.9516666666666611, 0.9548888888888838, 0.9542222222222169, 0.9537777777777721]\n",
      "[0.48209938913997674, 0.31040350023864044, 0.2706572735764914, 0.2633619197126892, 0.26183317240017157, 0.22978122368765375, 0.21613859336978444, 0.19500613021767801, 0.2058396381688201, 0.20151937724194594, 0.18795951169656797, 0.18656296602217481, 0.17293473891008437, 0.17506865181080583, 0.17108642537715948, 0.16463028802109572, 0.16246265242704086, 0.15888001071547883, 0.15536700959213906, 0.15288772719873425]\n",
      "[3985, 7960, 11935, 15910, 19885, 23860, 27835, 31810, 35785, 39760, 43735, 47710, 51685, 55660, 59635, 63610, 67585, 71560, 75535, 79510]\n",
      "[0.8429999999999946, 0.9055555555555485, 0.919222222222215, 0.9216666666666601, 0.9297777777777712, 0.9297777777777715, 0.9395555555555496, 0.938444444444438, 0.9415555555555495, 0.9455555555555494, 0.9476666666666611, 0.9508888888888837, 0.9528888888888836, 0.9536666666666619, 0.952444444444439, 0.9555555555555502, 0.9534444444444394, 0.9551111111111052, 0.9552222222222176, 0.9582222222222174]\n",
      "[0.569556293413043, 0.33549268600220483, 0.2931495285510189, 0.275625636426525, 0.24917841363284324, 0.24713333011501365, 0.22464169071987272, 0.22556892309958737, 0.211869160624014, 0.19907051449331145, 0.1904714519644363, 0.18425179282927678, 0.17888420990047355, 0.17736308383548424, 0.17137465596768178, 0.1627530543262967, 0.17159141255439156, 0.1622920365585014, 0.16544419664475654, 0.14933990500349964]\n"
     ]
    }
   ],
   "source": [
    "print(not_distilled_param)\n",
    "print(not_distilled_accuracy)\n",
    "print(not_distilled_loss)\n",
    "\n",
    "print(distilled_param)\n",
    "print(distilled_accuracy)\n",
    "print(distilled_loss)"
   ]
  },
  {
   "cell_type": "code",
   "execution_count": null,
   "metadata": {},
   "outputs": [
    {
     "data": {
      "text/plain": [
       "'global_step =  0\\nn_train = len(filtered_train_data)\\nprint(n_train)\\n\\nT = 1.0 # temperature for distillation loss\\n# Using a higher value for T produces a softer probability distribution over classes\\nalpha = 1.0\\n# trade-off between soft-target (st) cross-entropy and true-target (tt) cross-entropy;\\n# loss = alpha * st + (1 - alpha) * tt\\n\\nprint(\"Starting Training Loop...\")\\n\\n\\nsource_dice = []\\nintervalle = []\\n\\nL_seg_list = []\\n\\nloss_list = []\\nacc_list = []\\n\\nL_s_list = []\\n\\ncompteur_plot = 0\\n\\nfor epoch in range(num_epochs):\\n    epoch_loss = 0\\n    epoch_acc = 0\\n    cpt_it = 0\\n    with tqdm(total=n_train, desc=f\\'Epoch {epoch + 1}/{num_epochs}\\', unit=\\'img\\') as pbar:\\n\\n        for i, data in enumerate(filtered_train_dataloader, 0):\\n            student_model.train()\\n            teacher_model.eval()\\n\\n            cpt_it += 1\\n\\n            X, y = data\\n\\n            X = X.to(\\n                device=device, dtype=torch.float32)\\n            y = y.to(\\n                device=device, dtype=torch.long)\\n\\n            # Pass Data Trought net before optimizing everything\\n\\n            loss, acc = studentTrainStep(teacher_model, student_model, studentLoss, optimizer_global, X, y, T, alpha)\\n            \\n\\n            L_global = loss\\n\\n            ###########################################################\\n            # Evaluation on the Training Set\\n            ###########################################################\\n\\n            student_model.eval()\\n\\n            intervalle.append(compteur_plot)\\n            compteur_plot += 1\\n\\n            global_step += 1\\n            epoch_loss += loss.item()\\n            epoch_acc += acc\\n\\n            pbar.update(X.shape[0])\\n            pbar.set_postfix(\\n                **{\\'loss (batch)\\': epoch_loss/cpt_it, \"accuracy (batch)\": epoch_acc/cpt_it})\\n            # pbar.set_postfix(**{\\'dice target\\': dice_target})\\n\\n            loss_list.append(loss.item())\\n            acc_list.append(acc)\\n# print(\"whole epoch target dice mean :\", sum(dice_score_target)/cpt_it)\\n        if (epoch % batch_save_interval == 0):  # and epoch != 0 :\\n\\n            loss_smooth = smooth(loss_list, 0.99)\\n            acc_smooth = smooth(acc_list, 0.99)\\n\\n            torch.save(student_model.state_dict(), saving_folder +\\n                       \"/newtork_weigths/net_epoch{:}_acc{:.3f}_loss{:.3f}.pth\".format(epoch, epoch_acc/cpt_it, epoch_loss/cpt_it))\\n\\n            plt.figure(1)\\n            plt.clf()\\n            plt.plot(intervalle, acc_smooth, \\'r-\\', label=\\'Global accuracy\\')\\n            plt.xlabel(\"iterations\")\\n            plt.ylabel(\"Accuracy Value\")\\n            plt.title(\"Accuracy Monitoring among training\")\\n            plt.legend()\\n            plt.savefig(saving_folder+\"/training_monitoring/acc_\" +\\n                        str(epoch)+\"_epoch.png\")\\n            plt.show()\\n\\n            plt.figure(1)\\n            plt.clf()\\n            plt.plot(intervalle, loss_smooth, \\'r-\\', label=\\'Global loss\\')\\n            plt.xlabel(\"iterations\")\\n            plt.ylabel(\"Loss Value\")\\n            plt.title(\"Loss Monitoring among training\")\\n            plt.legend()\\n            plt.savefig(saving_folder+\"/training_monitoring/loss_\" +\\n                        str(epoch)+\"_epoch.png\")\\n            plt.show()'"
      ]
     },
     "execution_count": 24,
     "metadata": {},
     "output_type": "execute_result"
    }
   ],
   "source": [
    "\"\"\"global_step =  0\n",
    "n_train = len(filtered_train_data)\n",
    "print(n_train)\n",
    "\n",
    "T = 1.0 # temperature for distillation loss\n",
    "# Using a higher value for T produces a softer probability distribution over classes\n",
    "alpha = 1.0\n",
    "# trade-off between soft-target (st) cross-entropy and true-target (tt) cross-entropy;\n",
    "# loss = alpha * st + (1 - alpha) * tt\n",
    "\n",
    "print(\"Starting Training Loop...\")\n",
    "\n",
    "\n",
    "source_dice = []\n",
    "intervalle = []\n",
    "\n",
    "L_seg_list = []\n",
    "\n",
    "loss_list = []\n",
    "acc_list = []\n",
    "\n",
    "L_s_list = []\n",
    "\n",
    "compteur_plot = 0\n",
    "\n",
    "for epoch in range(num_epochs):\n",
    "    epoch_loss = 0\n",
    "    epoch_acc = 0\n",
    "    cpt_it = 0\n",
    "    with tqdm(total=n_train, desc=f'Epoch {epoch + 1}/{num_epochs}', unit='img') as pbar:\n",
    "\n",
    "        for i, data in enumerate(filtered_train_dataloader, 0):\n",
    "            student_model.train()\n",
    "            teacher_model.eval()\n",
    "\n",
    "            cpt_it += 1\n",
    "\n",
    "            X, y = data\n",
    "\n",
    "            X = X.to(\n",
    "                device=device, dtype=torch.float32)\n",
    "            y = y.to(\n",
    "                device=device, dtype=torch.long)\n",
    "\n",
    "            # Pass Data Trought net before optimizing everything\n",
    "\n",
    "            loss, acc = studentTrainStep(teacher_model, student_model, studentLoss, optimizer_global, X, y, T, alpha)\n",
    "            \n",
    "\n",
    "            L_global = loss\n",
    "\n",
    "            ###########################################################\n",
    "            # Evaluation on the Training Set\n",
    "            ###########################################################\n",
    "\n",
    "            student_model.eval()\n",
    "\n",
    "            intervalle.append(compteur_plot)\n",
    "            compteur_plot += 1\n",
    "\n",
    "            global_step += 1\n",
    "            epoch_loss += loss.item()\n",
    "            epoch_acc += acc\n",
    "\n",
    "            pbar.update(X.shape[0])\n",
    "            pbar.set_postfix(\n",
    "                **{'loss (batch)': epoch_loss/cpt_it, \"accuracy (batch)\": epoch_acc/cpt_it})\n",
    "            # pbar.set_postfix(**{'dice target': dice_target})\n",
    "\n",
    "            loss_list.append(loss.item())\n",
    "            acc_list.append(acc)\n",
    "# print(\"whole epoch target dice mean :\", sum(dice_score_target)/cpt_it)\n",
    "        if (epoch % batch_save_interval == 0):  # and epoch != 0 :\n",
    "\n",
    "            loss_smooth = smooth(loss_list, 0.99)\n",
    "            acc_smooth = smooth(acc_list, 0.99)\n",
    "\n",
    "            torch.save(student_model.state_dict(), saving_folder +\n",
    "                       \"/newtork_weigths/net_epoch{:}_acc{:.3f}_loss{:.3f}.pth\".format(epoch, epoch_acc/cpt_it, epoch_loss/cpt_it))\n",
    "\n",
    "            plt.figure(1)\n",
    "            plt.clf()\n",
    "            plt.plot(intervalle, acc_smooth, 'r-', label='Global accuracy')\n",
    "            plt.xlabel(\"iterations\")\n",
    "            plt.ylabel(\"Accuracy Value\")\n",
    "            plt.title(\"Accuracy Monitoring among training\")\n",
    "            plt.legend()\n",
    "            plt.savefig(saving_folder+\"/training_monitoring/acc_\" +\n",
    "                        str(epoch)+\"_epoch.png\")\n",
    "            plt.show()\n",
    "\n",
    "            plt.figure(1)\n",
    "            plt.clf()\n",
    "            plt.plot(intervalle, loss_smooth, 'r-', label='Global loss')\n",
    "            plt.xlabel(\"iterations\")\n",
    "            plt.ylabel(\"Loss Value\")\n",
    "            plt.title(\"Loss Monitoring among training\")\n",
    "            plt.legend()\n",
    "            plt.savefig(saving_folder+\"/training_monitoring/loss_\" +\n",
    "                        str(epoch)+\"_epoch.png\")\n",
    "            plt.show()\"\"\"\n"
   ]
  }
 ],
 "metadata": {
  "kernelspec": {
   "display_name": "env",
   "language": "python",
   "name": "python3"
  },
  "language_info": {
   "codemirror_mode": {
    "name": "ipython",
    "version": 3
   },
   "file_extension": ".py",
   "mimetype": "text/x-python",
   "name": "python",
   "nbconvert_exporter": "python",
   "pygments_lexer": "ipython3",
   "version": "3.6.9"
  },
  "orig_nbformat": 4,
  "vscode": {
   "interpreter": {
    "hash": "fb5e5b18ee203a6716e147d61d87e90492f0bff6defd22583400cdaccb6acdb3"
   }
  }
 },
 "nbformat": 4,
 "nbformat_minor": 2
}
